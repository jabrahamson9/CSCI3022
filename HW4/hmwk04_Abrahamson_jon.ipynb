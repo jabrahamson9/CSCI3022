{
 "cells": [
  {
   "cell_type": "markdown",
   "metadata": {},
   "source": [
    "\n",
    "# Homework 4: Confidence intervals, hypothesis testing, and p-values\n",
    "***\n",
    "\n",
    "**Name**: JC Abrahamson\n",
    "\n",
    "***\n",
    "\n",
    "This assignment is due on Moodle by **11:59 PM on Friday 3 April**. Your solutions to theoretical questions should be done in Markdown/MathJax directly below the associated question.  Your solutions to computational questions should include any specified Python code and results as well as written commentary on your conclusions.  Remember that you are encouraged to discuss the problems with your instructors and classmates, but **you must write all code and solutions on your own**. \n",
    "\n",
    "**NOTES**: \n",
    "\n",
    "- Any relevant data sets should be available under the **Data** module on Canvas, as well as in the zipped folder in which you obtained this assignment. \n",
    "- Do **NOT** load or use any Python packages that are not available in Anaconda 3.6. \n",
    "- Because you can technically evaluate notebook cells in a non-linear order, it's a good idea to do Kernel $\\rightarrow$ Restart & Run All as a check before submitting your solutions.  That way if we need to run your code you will know that it will work as expected. \n",
    "- It is **bad form** to make your reader interpret numerical output from your code.  If a question asks you to compute some value from the data you should show your code output **AND** write a summary of the results in Markdown directly below your code. \n",
    "- You **MUST** leave all of your notebook cells **evaluated** so the graders do not need to re-evaluate them. For 100+ students, this extra time adds up, and makes the graders' lives unnecessarily more difficult.\n",
    "- This probably goes without saying, but... For any question that asks you to calculate something, you **must show all work and justify your answers to receive credit**. Sparse or nonexistent work will receive sparse or nonexistent credit. \n",
    "- Submit only this Jupyter notebook to Canvas.  Do not compress it using tar, rar, zip, etc. \n"
   ]
  },
  {
   "cell_type": "code",
   "execution_count": 1,
   "metadata": {
    "scrolled": true
   },
   "outputs": [],
   "source": [
    "import numpy as np\n",
    "import math\n",
    "import scipy.stats as stats\n",
    "import matplotlib.pyplot as plt\n",
    "import pandas as pd\n",
    "%matplotlib inline"
   ]
  },
  {
   "cell_type": "markdown",
   "metadata": {},
   "source": [
    "<br>\n",
    "\n",
    "\n",
    "### [20 points] Problem 1 - Exploring Confidence Intervals \n",
    "\n",
    "The [Gumbel](https://en.wikipedia.org/wiki/Gumbel_distribution) distribution is one of several distributions frequently used to model environmental extremes (for example, extreme temperatures and sea levels).  It is also fairly asymmetric, and thus interesting for investigating confidence intervals.  It is implemented in scipy.stats as [gumbel_r](https://docs.scipy.org/doc/scipy/reference/generated/scipy.stats.gumbel_r.html), where the appendix \"\\_r\" denotes the right-skewed version of the Gumbel distribution (as opposed to the left-skewed)."
   ]
  },
  {
   "cell_type": "markdown",
   "metadata": {},
   "source": [
    "**Part A**: Complete the following code cell to plot a histogram of 100 realizations from the Gumbel distribution with parameters $\\mu=8$ (location) and $\\beta=2$ (scale).  Be sure to leave this cell executed before turning in your assignment! Make your histogram faces coral with gray edges."
   ]
  },
  {
   "cell_type": "code",
   "execution_count": 24,
   "metadata": {},
   "outputs": [
    {
     "data": {
      "text/plain": [
       "Text(0.5, 1.0, '100 Realizations Gumbel Distribution')"
      ]
     },
     "execution_count": 24,
     "metadata": {},
     "output_type": "execute_result"
    },
    {
     "data": {
      "image/png": "[encoded data removed]",
      "text/plain": [
       "<Figure size 576x288 with 1 Axes>"
      ]
     },
     "metadata": {
      "needs_background": "light"
     },
     "output_type": "display_data"
    }
   ],
   "source": [
    "mu = 8\n",
    "beta = 2\n",
    "n_sample = 100\n",
    "x = stats.gumbel_r.rvs( scale = beta, loc = mu, size = n_sample )\n",
    "\n",
    "fig, ax = plt.subplots(nrows=1, ncols=1, figsize=(8,4))\n",
    "\n",
    "# Your code goes here!\n",
    "plt.hist(x, facecolor = 'coral', edgecolor = 'gray')\n",
    "plt.ylabel(\"Frequency\", fontsize = 15)\n",
    "plt.xlabel(\"Realizations\", fontsize = 15)\n",
    "plt.title(\"100 Realizations Gumbel Distribution\", fontsize = 15)"
   ]
  },
  {
   "cell_type": "markdown",
   "metadata": {},
   "source": [
    "**Part B:** Look up the analytical mean and variance of the Gumbel distribution with parameters $\\mu=8$ and $\\beta=2$ and calculate them here by hand.  Note that the Euler–Mascheroni constant can be accessed via `np.euler_gamma`. Note that the version of the Gumbel we are using is *right-skewed*, and is the version used to model maximal extreme events.\n",
    "\n",
    "Use the empirical mean from your sample in **Part A**, and the true variance of the Gumbel distribution to compute by hand a 95% confidence interval for the mean."
   ]
  },
  {
   "cell_type": "code",
   "execution_count": 4,
   "metadata": {},
   "outputs": [
    {
     "name": "stdout",
     "output_type": "stream",
     "text": [
      "Euler-Mascheroni constant: 0.5772156649015329\n",
      "Empirical mean: 9.165201754607516\n",
      "Z critical: 1.959963984540054\n"
     ]
    }
   ],
   "source": [
    "print(\"Euler-Mascheroni constant: {}\".format(np.euler_gamma))\n",
    "print(\"Empirical mean: {}\".format(np.mean(x)))\n",
    "alpha = 1 - (0.95)\n",
    "Z = stats.norm.ppf(1-alpha/2)\n",
    "print(\"Z critical: {}\".format(Z))"
   ]
  },
  {
   "cell_type": "markdown",
   "metadata": {},
   "source": [
    "$ \\mu + \\beta \\gamma$\n",
    "\n",
    "$Analytical Mean = 8 + 2 \\cdot 0.57721 = 9.15444$\n",
    "\n",
    "\n",
    "$Empirical Mean = 9.165201$\n",
    "\n",
    "\n",
    "$Variance = \\frac{\\pi^2}{6}\\beta^2$\n",
    "\n",
    "$= \\frac{\\pi^2}{6} \\cdot 2^2 = 6.57974$\n",
    "\n",
    "\n",
    "Confidence Interval with Empirical Mean and The True Variance\n",
    "\n",
    "\n",
    "**CI** = $\\bar x \\pm z \\cdot \\frac{\\sigma}{\\sqrt{n}}$\n",
    "\n",
    "**CI** = $9.165201 + 1.959963 \\cdot \\sqrt{\\frac{\\frac{2\\pi ^2}{3}}{100}}$\n",
    "\n",
    "**CI** = $9.165201 - 1.959963 \\cdot \\sqrt{\\frac{\\frac{2\\pi ^2}{3}}{100}}$\n",
    "\n",
    "**CI** = $[8.662450957,\\ 9.667951043]$"
   ]
  },
  {
   "cell_type": "markdown",
   "metadata": {},
   "source": [
    "**Part C:  A theoretical interlude.** When Amy, the famous hedgehog data scientist, ran her solution code for **Part B**, she obtained a 95% confidence interval of $[8.81, 9.82]$ for the mean of the $Gum(\\mu=8, \\beta=2)$ distribution. For each of the following, explain why or why not the situation described is correct, given the technical definition of a 95% confidence interval we went over in class.\n",
    "\n",
    "**(i)** If you had no other evidence regarding true mean of the $Gum(\\mu=8, \\beta=2)$ distribution, you could say there is a 95% chance that its true mean falls between 8.81 and 9.82.\n",
    "\n",
    "**(ii)** If a class of 100 students all construct 95% confidence intervals for the mean of the $Gum(\\mu=8, \\beta=2)$ distribution, then we expect about 95 of their CIs to contain the true mean, and about 5 of them to miss the true mean.\n",
    "\n",
    "**(iii)** If we sample 100 random variables from the $Gum(\\mu=8, \\beta=2)$ distribution, then roughly 95% of them will be between 8.81 and 9.82."
   ]
  },
  {
   "cell_type": "markdown",
   "metadata": {
    "collapsed": true
   },
   "source": [
    "**Answers:**\n",
    "\n",
    "**(i)** Incorrect. The CI is a statement about the mean, not confidence. \n",
    "\n",
    "**(iI)** Correct. The CI mean statement shows 95% of their CI's would contain the true mean and 5% would not. \n",
    "\n",
    "**(IIi)** Incorrect. The CI doesnt use random variables only means. "
   ]
  },
  {
   "cell_type": "markdown",
   "metadata": {},
   "source": [
    "**Part D:** In this part you'll write a function to investigate the _coverage properties_ of a confidence interval for the mean of the Gumbel distribution. Complete the following function to randomly sample $m=500$ sample means with sample size $n=100$ for the Gumbel distribution with parameters $\\mu=8$ and $\\beta=2$.  For each random sample, compute the 66% confidence interval for the mean. Note that you actually know the variance for the true population distribution, $\\sigma^2$ from Part B.  Your function should do two things: \n",
    "\n",
    "1. Report the proportion of confidence intervals that successfully cover the true mean of the distribution \n",
    "2. Make a plot of 50 randomly selected confidence intervals. Overlay the intervals on the line $y=\\textrm{True mean}$ (from **Part B**). Color confidence intervals steelblue if they cover the true mean, and coral if they don't.  \n",
    "\n",
    "Be sure to leave this cell executed before turning in your assignment!"
   ]
  },
  {
   "cell_type": "code",
   "execution_count": 46,
   "metadata": {},
   "outputs": [
    {
     "name": "stdout",
     "output_type": "stream",
     "text": [
      "Density of Confidence intervals that cover the true distribution mean:  0.67\n"
     ]
    },
    {
     "data": {
      "image/png": "[encoded data removed]",
      "text/plain": [
       "<Figure size 864x432 with 1 Axes>"
      ]
     },
     "metadata": {
      "needs_background": "light"
     },
     "output_type": "display_data"
    }
   ],
   "source": [
    "# GIVEN CODE:\n",
    "\n",
    "def confidence_intervals(m = 500, n = 100):\n",
    "    mu = 8\n",
    "    beta = 2\n",
    "    \n",
    "    # Your code goes here!\n",
    "    lower = []\n",
    "    upper = []\n",
    "    count = 0\n",
    "    expMean = mu + beta * np.euler_gamma\n",
    "    variance = (2 * (math.pi**2)) / 3\n",
    "    alpha = 1 - 0.66\n",
    "    Z = stats.norm.ppf(1 - (alpha / 2))\n",
    "    for i in range(m): \n",
    "        x = stats.gumbel_r.rvs(scale = beta, loc = mu, size = n)\n",
    "        x_bar = np.mean(x)\n",
    "        lower.append(x_bar - Z * math.sqrt(variance/n))\n",
    "        upper.append(x_bar + Z * math.sqrt(variance/n))\n",
    "    for i in range(m): \n",
    "        low = lower[i]\n",
    "        up = upper[i]\n",
    "        if (expMean <= up and low <= expMean):\n",
    "            count += 1\n",
    "    index_list = list(range(m))\n",
    "    random_list = np.random.choice(index_list, size = 50, replace = False)\n",
    "    fig, ax = plt.subplots(figsize = (12,6))\n",
    "    for i in range(len(random_list)):\n",
    "        low = lower[random_list[i]]\n",
    "        up = upper[random_list[i]]\n",
    "        if (low <= expMean and expMean <= up):\n",
    "            ax.plot([i + 1, i + 1], [low, up], color = 'red')\n",
    "        else:\n",
    "            ax.plot([i + 1, i + 1], [low, up], color = 'blue')\n",
    "    plt.plot([0, 50], [expMean, expMean], color = 'black')\n",
    "    plt.ylabel(\"Interval\", fontsize = 15)\n",
    "    plt.xlabel(\"Trial #\", fontsize = 15)\n",
    "    plt.title(\"CI and Covering True Mean\", fontsize = 15)\n",
    "    print(\"Density of Confidence intervals that cover the true distribution mean: \", count / m)\n",
    "    \n",
    "confidence_intervals()\n",
    "\n"
   ]
  },
  {
   "cell_type": "markdown",
   "metadata": {},
   "source": [
    "**Part E:** Does the proportion of confidence intervals that cover the true mean of the distribution agree with the theory described in class?  Justify your conclusion. "
   ]
  },
  {
   "cell_type": "markdown",
   "metadata": {
    "collapsed": true
   },
   "source": [
    "The theory says if we have a 66% confidence interval, we would expect about 66% of randomly generated confidence intervals to cover the true mean. I got a porportion of 67% which is very close to the theoretical value."
   ]
  },
  {
   "cell_type": "markdown",
   "metadata": {},
   "source": [
    "---\n",
    "\n",
    "\n",
    "### [20 points] Problem 2 - Taco Town!!\n",
    "\n",
    "You're an intern in the office of the City of Boulder's official Food Rater, and in order to support her in her extremely important job, you have to determine whether Taco Bell or Del Taco has the empirically better tacos. \n",
    "\n",
    "\"Don't worry,\" you tell your boss. \"I'll have you know I graduated top of my class from CU Boulder, and I've been involved in numerous data science operations on difficult data sets - many of which are hedgehog-related - and I have over 300 confirmed confidence intervals. I am trained in Numpy and Pandas and I'm the top data scientist in the entire campus.\"\n",
    "\n",
    "\"Weird flex but OK,\" your boss responds, and gives you the data. The data set consists of 100 diners who ate both Taco Bell and Del Taco, and rated their meal enjoyment at each. As is often the case with fast food taco establishments, each diner ate alone and each meal was followed by about 3 weeks of intense therapy, so the diners and meals may all be considered to be independent of one another. The meal enjoyment ratings are in units of *mehs*, where lower values denote more disgust and a worse meal, and higher values are better."
   ]
  },
  {
   "cell_type": "markdown",
   "metadata": {},
   "source": [
    "**Part A:** Import the data set `taco_time.csv` as a Pandas DataFrame.\n",
    "\n",
    "Then, plot a density histogram of the data. Include both Taco Bell and Del Taco on the same set of axes. Be sure to label your axes, and make the histogram faces slightly transparent and include a legend, so we can tell the two data sets apart. Use colors for each restaurant that are representative of that restaurant's logo or branding.\n",
    "\n",
    "Finally, formulate a hypothesis about which restaurant has the higher mean meal enjoyment."
   ]
  },
  {
   "cell_type": "code",
   "execution_count": 1,
   "metadata": {},
   "outputs": [
    {
     "ename": "NameError",
     "evalue": "name 'pd' is not defined",
     "output_type": "error",
     "traceback": [
      "\u001b[1;31m---------------------------------------------------------------------------\u001b[0m",
      "\u001b[1;31mNameError\u001b[0m                                 Traceback (most recent call last)",
      "\u001b[1;32m<ipython-input-1-d0b270481fa8>\u001b[0m in \u001b[0;36m<module>\u001b[1;34m\u001b[0m\n\u001b[1;32m----> 1\u001b[1;33m \u001b[0mdf\u001b[0m \u001b[1;33m=\u001b[0m \u001b[0mpd\u001b[0m\u001b[1;33m.\u001b[0m\u001b[0mread_csv\u001b[0m\u001b[1;33m(\u001b[0m\u001b[1;34m\"taco_time.csv\"\u001b[0m\u001b[1;33m)\u001b[0m\u001b[1;33m\u001b[0m\u001b[1;33m\u001b[0m\u001b[0m\n\u001b[0m\u001b[0;32m      2\u001b[0m \u001b[0mTBell\u001b[0m \u001b[1;33m=\u001b[0m \u001b[0mdf\u001b[0m\u001b[1;33m[\u001b[0m\u001b[1;34m'Taco Bell'\u001b[0m\u001b[1;33m]\u001b[0m\u001b[1;33m\u001b[0m\u001b[1;33m\u001b[0m\u001b[0m\n\u001b[0;32m      3\u001b[0m \u001b[0mTDel\u001b[0m \u001b[1;33m=\u001b[0m \u001b[0mdf\u001b[0m\u001b[1;33m[\u001b[0m\u001b[1;34m'Del Taco'\u001b[0m\u001b[1;33m]\u001b[0m\u001b[1;33m\u001b[0m\u001b[1;33m\u001b[0m\u001b[0m\n\u001b[0;32m      4\u001b[0m \u001b[0mfig\u001b[0m\u001b[1;33m,\u001b[0m \u001b[0max\u001b[0m \u001b[1;33m=\u001b[0m \u001b[0mplt\u001b[0m\u001b[1;33m.\u001b[0m\u001b[0msubplots\u001b[0m\u001b[1;33m(\u001b[0m\u001b[0mfigsize\u001b[0m\u001b[1;33m=\u001b[0m\u001b[1;33m(\u001b[0m\u001b[1;36m12\u001b[0m\u001b[1;33m,\u001b[0m\u001b[1;36m6\u001b[0m\u001b[1;33m)\u001b[0m\u001b[1;33m)\u001b[0m\u001b[1;33m\u001b[0m\u001b[1;33m\u001b[0m\u001b[0m\n\u001b[0;32m      5\u001b[0m \u001b[0mTBell\u001b[0m\u001b[1;33m.\u001b[0m\u001b[0mhist\u001b[0m\u001b[1;33m(\u001b[0m\u001b[0mdensity\u001b[0m \u001b[1;33m=\u001b[0m \u001b[1;32mTrue\u001b[0m\u001b[1;33m,\u001b[0m \u001b[0max\u001b[0m \u001b[1;33m=\u001b[0m \u001b[0max\u001b[0m\u001b[1;33m,\u001b[0m \u001b[0mfacecolor\u001b[0m \u001b[1;33m=\u001b[0m \u001b[1;34m'coral'\u001b[0m\u001b[1;33m,\u001b[0m \u001b[0medgecolor\u001b[0m \u001b[1;33m=\u001b[0m \u001b[1;34m'coral'\u001b[0m\u001b[1;33m,\u001b[0m \u001b[0malpha\u001b[0m \u001b[1;33m=\u001b[0m \u001b[1;36m0.5\u001b[0m\u001b[1;33m,\u001b[0m \u001b[0mlabel\u001b[0m \u001b[1;33m=\u001b[0m \u001b[1;34m\"Taco Bell\"\u001b[0m\u001b[1;33m)\u001b[0m\u001b[1;33m\u001b[0m\u001b[1;33m\u001b[0m\u001b[0m\n",
      "\u001b[1;31mNameError\u001b[0m: name 'pd' is not defined"
     ]
    }
   ],
   "source": [
    "df = pd.read_csv(\"taco_time.csv\")\n",
    "TBell = df['Taco Bell']\n",
    "TDel = df['Del Taco']\n",
    "fig, ax = plt.subplots(figsize=(12,6))\n",
    "TBell.hist(density = True, ax = ax, facecolor = 'coral', edgecolor = 'coral', alpha = 0.5, label = \"Taco Bell\")\n",
    "TDel.hist(density = True, ax = ax, facecolor='blue', edgecolor='blue', alpha=0.4, label = \"Del Taco\")\n",
    "\n",
    "plt.xlabel(\"Restaurant Rating\", fontsize = 12)\n",
    "plt.ylabel(\"Density\", fontsize = 12)\n",
    "plt.title(\"Taco Bell vs Del Taco Food Rating\", fontsize = 18)\n",
    "plt.legend(fontsize = 14)"
   ]
  },
  {
   "cell_type": "markdown",
   "metadata": {},
   "source": [
    "**Part B:** Compute a 95% confidence interval for the mean enjoyment of Taco Bell meals, and a separate 95% confidence interval for the mean enjoyment of Del Taco meals. You can use Python as a calculator, but the set-up and groundwork for your computation should be in Markdown/MathJax.\n",
    "\n",
    "Based on those confidence intervals, can we conclude that the means are different at the 95% level of confidence?"
   ]
  },
  {
   "cell_type": "code",
   "execution_count": 54,
   "metadata": {},
   "outputs": [
    {
     "name": "stdout",
     "output_type": "stream",
     "text": [
      "Taco Bell mean: -0.11369182761473999\n",
      "Taco Bell standard deviation: 1.8730655634885462\n",
      "Taco Bell n: 100\n",
      "\n",
      "Del Taco mean: -0.8343471961220464\n",
      "Del Taco standard deviation: 1.90007795488315\n",
      "Del Taco n: 100\n",
      "\n",
      "Z critical: 1.959963984540054\n"
     ]
    }
   ],
   "source": [
    "TBell_mean = np.mean(TB)\n",
    "TBell_sd = np.std(TB)\n",
    "TBell_n = len(TB)\n",
    "TDel_mean = np.mean(DT)\n",
    "TDel_sd = np.std(DT)\n",
    "TDel_n = len(DT)\n",
    "print(\"Taco Bell mean: {}\".format(TBell_mean))\n",
    "print(\"Taco Bell standard deviation: {}\".format(TBell_sd))\n",
    "print(\"Taco Bell n: {}\\n\".format(TBell_n))\n",
    "print(\"Del Taco mean: {}\".format(TDel_mean))\n",
    "print(\"Del Taco standard deviation: {}\".format(TDel_sd))\n",
    "print(\"Del Taco n: {}\\n\".format(TDel_n))\n",
    "\n",
    "a = 1 - 0.95\n",
    "Z = stats.norm.ppf(1 - (a / 2))\n",
    "print(\"Z critical: {}\".format(Z))"
   ]
  },
  {
   "cell_type": "markdown",
   "metadata": {},
   "source": [
    "**Taco Bell**\n",
    "\n",
    "CI = $\\bar x \\pm z \\cdot \\frac{\\sigma}{\\sqrt{n}}$\n",
    "\n",
    "$ -0.113691 + 1.959963 \\cdot \\frac{1.873065}{\\sqrt{100}}$\n",
    "\n",
    "$-0.113691 - 1.959963 \\cdot \\frac{1.873065}{\\sqrt{100}}$\n",
    "\n",
    "CI = $[-0.48080,\\ 0.25342]$\n",
    "\n",
    "\n",
    "**Del Taco**\n",
    "\n",
    "CI = $\\bar x \\pm z \\cdot \\frac{\\sigma}{\\sqrt{n}}$\n",
    "\n",
    "$-0.834347 + 1.959963 \\cdot \\frac{1.900077}{\\sqrt{100}}$\n",
    "\n",
    "$-0.834347 - 1.959963 \\cdot \\frac{1.900077}{\\sqrt{100}}$\n",
    "\n",
    "CI = $[-1.20676,\\ -0.46194]$\n",
    "\n",
    "\n",
    "\n",
    "**No, we cannot conclude that the means are different at the 95% level of confidence because the two CI's overlap.**"
   ]
  },
  {
   "cell_type": "markdown",
   "metadata": {},
   "source": [
    "**Part C:** Compute a 95% confidence interval for the difference between the mean enjoyment of Taco Bell and Del Taco food. "
   ]
  },
  {
   "cell_type": "markdown",
   "metadata": {
    "collapsed": true
   },
   "source": [
    "$\\large \\bar x_1 - \\bar x_2 \\pm z_{\\frac{\\alpha}{2}} \\cdot \\sqrt{\\frac{{s_1}^2}{n_1} + \\frac{{s_2}^2}{n_2}}$\n",
    "\n",
    "To compute a 95% confidence interval for the difference between the mean enjoyment of Taco Bell and Del Taco food. This 95% confidence interval is below."
   ]
  },
  {
   "cell_type": "code",
   "execution_count": 56,
   "metadata": {},
   "outputs": [
    {
     "name": "stdout",
     "output_type": "stream",
     "text": [
      "CI = [0.19772056483659495, 1.243590172178018]\n"
     ]
    }
   ],
   "source": [
    "CIlower = TBell_mean - TDel_mean - Z * math.sqrt(TBell_sd**2 / 100 + TDel_sd**2 / 100)\n",
    "CIupper = TBell_mean - TDel_mean + Z * math.sqrt(TBell_sd**2 / 100 + TDel_sd**2 / 100)\n",
    "print('CI = [' + str(CIlower) + ', ' + str(CIupper) + ']')"
   ]
  },
  {
   "cell_type": "markdown",
   "metadata": {},
   "source": [
    "**Part D:** Comment on how the results from this two-sample confidence interval compare to the results from the separate one-sample confidence intervals. In 1-2 sentences, discuss how these results confirm, disprove, or otherwise relate to your hypothesis from Part A."
   ]
  },
  {
   "cell_type": "markdown",
   "metadata": {
    "collapsed": true
   },
   "source": [
    "From the one-sample CIs, we could not make a decision about whether Del Taco or Taco Bell has a higher mean enjoyment, but we can from the two-sample confidence interval. When the two-sample CI includes 0, we cannot decide whether one is better than the other.We can see that because the two-sample CI is positive and we had Taco Bell mean - Del Taco mean in the CI calculations, we know that Taco Bell has a higher mean enjoyment than Del Taco.\n",
    "We did not reject the hypothesis that Taco Bell has higher food enjoyment than Del Taco. So, we have not disproved that Taco Bell has a higher mean meal enjoyment than Del Taco."
   ]
  },
  {
   "cell_type": "markdown",
   "metadata": {},
   "source": [
    "---\n",
    "\n",
    "\n",
    "### [20 points] Problem 3 - Evaluating Vehicle Performance \n",
    "\n",
    "A [1983 study](http://citeseerx.ist.psu.edu/viewdoc/download?doi=10.1.1.34.6358&rep=rep1&type=pdf) evaluated the gas mileage of a variety of cars manufactured between 1970 and 1983. The study also compiled other interesting attributes for each vehicle, but we will focus on the number of cylinders in the engine for this problem. More information on the data is available [here](https://archive.ics.uci.edu/ml/machine-learning-databases/auto-mpg/). Gas mileage is measured in miles-per-gallon, or mpg.\n",
    "\n",
    "**Part A:** Read the data set and store as a Pandas DataFrame. You will need figure out what additional arguments to `pd.read_csv()` must be provided in order to read the data set properly, based on what represents a separation between two columns of data.\n",
    "\n",
    "Then, be sure to give all of the columns informative names, if they do not already have some.\n",
    "\n",
    "Finally, use `drop_na()` to drop any rows with missing values. Missing values are reported with a \"?\"."
   ]
  },
  {
   "cell_type": "code",
   "execution_count": 64,
   "metadata": {},
   "outputs": [
    {
     "name": "stdout",
     "output_type": "stream",
     "text": [
      "need '\\s+' to seperate data\n"
     ]
    },
    {
     "data": {
      "text/html": [
       "<div>\n",
       "<style scoped>\n",
       "    .dataframe tbody tr th:only-of-type {\n",
       "        vertical-align: middle;\n",
       "    }\n",
       "\n",
       "    .dataframe tbody tr th {\n",
       "        vertical-align: top;\n",
       "    }\n",
       "\n",
       "    .dataframe thead th {\n",
       "        text-align: right;\n",
       "    }\n",
       "</style>\n",
       "<table border=\"1\" class=\"dataframe\">\n",
       "  <thead>\n",
       "    <tr style=\"text-align: right;\">\n",
       "      <th></th>\n",
       "      <th>MPG</th>\n",
       "      <th>Num of Cylinders</th>\n",
       "      <th>Displacement</th>\n",
       "      <th>Horsepower</th>\n",
       "      <th>Weight</th>\n",
       "      <th>Acceleration</th>\n",
       "      <th>Model Year</th>\n",
       "      <th>Origin</th>\n",
       "      <th>Car Name</th>\n",
       "    </tr>\n",
       "  </thead>\n",
       "  <tbody>\n",
       "    <tr>\n",
       "      <td>0</td>\n",
       "      <td>18.0</td>\n",
       "      <td>8</td>\n",
       "      <td>307.0</td>\n",
       "      <td>130.0</td>\n",
       "      <td>3504.0</td>\n",
       "      <td>12.0</td>\n",
       "      <td>70</td>\n",
       "      <td>1</td>\n",
       "      <td>chevrolet chevelle malibu</td>\n",
       "    </tr>\n",
       "    <tr>\n",
       "      <td>1</td>\n",
       "      <td>15.0</td>\n",
       "      <td>8</td>\n",
       "      <td>350.0</td>\n",
       "      <td>165.0</td>\n",
       "      <td>3693.0</td>\n",
       "      <td>11.5</td>\n",
       "      <td>70</td>\n",
       "      <td>1</td>\n",
       "      <td>buick skylark 320</td>\n",
       "    </tr>\n",
       "    <tr>\n",
       "      <td>2</td>\n",
       "      <td>18.0</td>\n",
       "      <td>8</td>\n",
       "      <td>318.0</td>\n",
       "      <td>150.0</td>\n",
       "      <td>3436.0</td>\n",
       "      <td>11.0</td>\n",
       "      <td>70</td>\n",
       "      <td>1</td>\n",
       "      <td>plymouth satellite</td>\n",
       "    </tr>\n",
       "    <tr>\n",
       "      <td>3</td>\n",
       "      <td>16.0</td>\n",
       "      <td>8</td>\n",
       "      <td>304.0</td>\n",
       "      <td>150.0</td>\n",
       "      <td>3433.0</td>\n",
       "      <td>12.0</td>\n",
       "      <td>70</td>\n",
       "      <td>1</td>\n",
       "      <td>amc rebel sst</td>\n",
       "    </tr>\n",
       "    <tr>\n",
       "      <td>4</td>\n",
       "      <td>17.0</td>\n",
       "      <td>8</td>\n",
       "      <td>302.0</td>\n",
       "      <td>140.0</td>\n",
       "      <td>3449.0</td>\n",
       "      <td>10.5</td>\n",
       "      <td>70</td>\n",
       "      <td>1</td>\n",
       "      <td>ford torino</td>\n",
       "    </tr>\n",
       "  </tbody>\n",
       "</table>\n",
       "</div>"
      ],
      "text/plain": [
       "    MPG  Num of Cylinders  Displacement Horsepower  Weight  Acceleration  \\\n",
       "0  18.0                 8         307.0      130.0  3504.0          12.0   \n",
       "1  15.0                 8         350.0      165.0  3693.0          11.5   \n",
       "2  18.0                 8         318.0      150.0  3436.0          11.0   \n",
       "3  16.0                 8         304.0      150.0  3433.0          12.0   \n",
       "4  17.0                 8         302.0      140.0  3449.0          10.5   \n",
       "\n",
       "   Model Year  Origin                   Car Name  \n",
       "0          70       1  chevrolet chevelle malibu  \n",
       "1          70       1          buick skylark 320  \n",
       "2          70       1         plymouth satellite  \n",
       "3          70       1              amc rebel sst  \n",
       "4          70       1                ford torino  "
      ]
     },
     "execution_count": 64,
     "metadata": {},
     "output_type": "execute_result"
    }
   ],
   "source": [
    "df = pd.read_csv('auto-mpg.data', sep = \"\\s+\", names = ['MPG', 'Num of Cylinders', 'Displacement', 'Horsepower', 'Weight', 'Acceleration', 'Model Year', 'Origin', 'Car Name']) \n",
    "print(\"need '\\s+' to seperate data\")\n",
    "# More processing code should go here!\n",
    "df = df.replace(to_replace = \"?\", value = np.nan) #populate empty data with nan\n",
    "df = df.dropna() #drop empties\n",
    "df.head()"
   ]
  },
  {
   "cell_type": "markdown",
   "metadata": {},
   "source": [
    "**Part B**: Assuming the data in this sample are representative of cars from the 1970-1983 time period, find a 90% confidence interval for the mean gas mileage (mpg) of all vehicles from this period. Can we conclude that the mean gas mileage is higher than 20 mpg? Be sure to show all calculations in Python. "
   ]
  },
  {
   "cell_type": "markdown",
   "metadata": {
    "collapsed": true
   },
   "source": [
    "$CI = \\bar x \\pm z \\cdot \\frac{\\sigma}{\\sqrt{n}}$\n",
    "\n",
    "**We can conclude, with 90% certainty, that the mean gas mileage is greater than 20 mpg for cars from the 1970-1983 time period because the CI does not include 20 within it**"
   ]
  },
  {
   "cell_type": "code",
   "execution_count": 65,
   "metadata": {},
   "outputs": [
    {
     "name": "stdout",
     "output_type": "stream",
     "text": [
      "Mean:  23.44591836734694\n",
      "Z critical:  1.6448536269514722\n",
      "Standard deviation:  7.805007486571799\n",
      "n:  392\n",
      "CI = [22.797496657205375, 24.094340077488507]\n"
     ]
    }
   ],
   "source": [
    "mean = df['MPG'].mean()\n",
    "alpha = 1 - 0.90\n",
    "Z = stats.norm.ppf(1 - (alpha/2))\n",
    "sd = df['MPG'].std()\n",
    "n = len(df['MPG'])\n",
    "\n",
    "CIupper_MPG = mean + Z * sd / np.sqrt(n)\n",
    "CIlower_MPG = mean - Z * sd / np.sqrt(n)\n",
    "print(\"Mean: \", mean)\n",
    "print(\"Z critical: \", Z)\n",
    "print(\"Standard deviation: \", sd)\n",
    "print(\"n: \", n)\n",
    "print('CI = [' + str(CIlower_MPG) + ', ' + str(CIupper_MPG) + ']')"
   ]
  },
  {
   "cell_type": "markdown",
   "metadata": {},
   "source": [
    "**Part C**: You are considering buying a new car, but since [gas prices have recently increased dramatically](https://www.energy.gov/eere/vehicles/fact-915-march-7-2016-average-historical-annual-gasoline-pump-price-1929-2015), you are concerned about getting good fuel economy.\n",
    "\n",
    "Using an appropriate *hypothesis test*, can you conclude at the $\\alpha=0.01$ significance level that the mean gas mileage for vehicles with 4 or 6 cylinder engines is more than 10 mpg better than the mean gas mileage for vehicles with 8 cylinder engines? You may consider two populations here: those vehicles with 4 or 6 cylinders, and those vehicles with 8 cylinders in their engines. Be sure to clearly describe your hypotheses and methodology, and show all relevant computations in Python. "
   ]
  },
  {
   "cell_type": "markdown",
   "metadata": {
    "collapsed": true
   },
   "source": [
    "\n",
    "**H_0** = Mean gas mileage for vehicles with 4 or 6 cylinders - mean gas mileage for vehicles with 8 cylinder engines = 10mpg.\n",
    "\n",
    "**H_1** = Mean gas mileage for vehicles with 4 or 6 cylinders - mean gas mileage for vehicles with 8 cylinder engines > 10mpg.\n",
    "\n",
    "**SE** = \\sqrt{\\frac{{s_1}^2}{n_1} + \\frac{{s_2}^2}{n_2}}$\n",
    "\n",
    "**d** = 10\n",
    "\n",
    "**tS** = [(\\bar x_1 - \\bar x_2) - d]/SE\n",
    "\n",
    "**$Z_{crit}$** = 2.3263478740408408\n",
    "\n",
    "**tS** = 3.2418504505148653\n",
    "\n",
    "**tS** > **$Z_{crit}$**\n",
    "\n",
    "**p** = 0.0005937816137021601\n",
    "\n",
    "**p < 0.01**\n",
    "\n",
    "The test statistic is greater than z critical and because the p-value is less than the significance level. Thus we reject the null hypothesis that mean gas mileage for vehicles with 4 or 6 cylinders - mean gas mileage for vehicles with 8 cylinder engines = 10mpg."
   ]
  },
  {
   "cell_type": "code",
   "execution_count": 66,
   "metadata": {},
   "outputs": [
    {
     "name": "stdout",
     "output_type": "stream",
     "text": [
      "Z critical:  2.3263478740408408\n",
      "Test statistic:  3.2418504505148653\n",
      "P-value:  0.0005937816137021601\n"
     ]
    }
   ],
   "source": [
    "fs_cyl = df.loc[((df['Num of Cylinders'] == 4) | (df['Num of Cylinders'] == 6))]\n",
    "fs_cyl = fs_cyl['MPG']\n",
    "e_cyl = df.loc[(df['Num of Cylinders'] == 8)]\n",
    "e_cyl = e_cyl['MPG']\n",
    "\n",
    "mean_fs = fs_cyl.mean()\n",
    "mean_e = e_cyl.mean()\n",
    "mean = mean_fs - mean_e\n",
    "var_fs = fs_cyl.var()\n",
    "var_e = e_cyl.var()\n",
    "n_fs = len(fs_cyl)\n",
    "n_e = len(e_cyl)\n",
    "SE = math.sqrt(var_fs/n_fs + var_e/n_e)\n",
    "d = 10\n",
    "Z_crit = stats.norm.ppf(0.99)\n",
    "print(\"Z critical: \", Z_crit)\n",
    "ts = (mean - d) / SE\n",
    "print(\"Test statistic: \",ts)\n",
    "p_val = 1 - stats.norm.cdf(ts)\n",
    "print(\"P-value: \", p_val)"
   ]
  },
  {
   "cell_type": "markdown",
   "metadata": {},
   "source": [
    "---\n",
    "\n",
    "\n",
    "### [20 points] Problem 4 - Grab bag!\n",
    "\n"
   ]
  },
  {
   "cell_type": "markdown",
   "metadata": {},
   "source": [
    "<img src=\"http://blog.localditch.com/wp-content/uploads/2011/01/sonic4.jpg\" style=\"width: 400px;\"/>\n",
    "\n",
    "**Part A**: You work for an engineering firm that has been hired to construct a corkscrew-shaped looped path for hedgehogs to run on and collect gold rings. Thousands of hedgehogs will run along this path each day, so structural failure means injury or death for many wonderful little creatures. \n",
    "\n",
    "You are in charge of quality control for the average strength of carbon fiber that will be used to construct the corkscrew path. Thinking back fondly to your days in CSCI 3022, you set up a hypothesis test in which your alternative hypothesis is that the strength of the carbon fiber is below tolerance, and therefore unsafe. What is the null hypothesis? Would you rather have a low Type I error rate or a low Type II error rate? Explain."
   ]
  },
  {
   "cell_type": "markdown",
   "metadata": {
    "collapsed": true
   },
   "source": [
    "**H_1** = strength of the carbon fiber is below tolerance = unsafe\n",
    "\n",
    "**H_0** = strength of the carbon fiber is equal or greater to tolerance = safe\n",
    "\n",
    "\n",
    "I would rather have a low type II error rate because if we get a type II error hedgehogs would die since we would fail to reject the null hypothesis even though its false."
   ]
  },
  {
   "cell_type": "markdown",
   "metadata": {},
   "source": [
    "**Part B**: Amy, the famous hedgehog data scientist, is working for the same engineering firm as you. She is a legend around the office! Word around the water cooler is that out of all of the 95% confidence intervals that Amy has constructed, 931 of them have turned out to actually capture the true population mean. Since Amy is a data science wizard and you can be sure she is constructing her confidence intervals correctly and collecting and using her data honestly, about how many 95% confidence intervals would you expect her to have constructed total? Explain your reasoning fully with words as well as some math."
   ]
  },
  {
   "cell_type": "markdown",
   "metadata": {
    "collapsed": true
   },
   "source": [
    "$\\frac{95}{931} = \\frac{100}{x}$\n",
    "\n",
    "$95 \\cdot x = 100 \\cdot 931$\n",
    "\n",
    "**x** = $\\frac{100 \\ \\cdot \\ 931}{95}$\n",
    "\n",
    "**x** = 980\n",
    "\n",
    "I expect Amy to have constructed 980 95% confidence intervals.\n",
    "This is because by the definition of confidence intervals, 95% of the total CI's she took would contain the true mean.¶"
   ]
  },
  {
   "cell_type": "markdown",
   "metadata": {},
   "source": [
    "**Part C**: As part of an outreach program, you and Amy are visiting a local elementary school to talk to the students about data science. What a riot! One of the more astute students asks you a question: \"In general, which is wider: a 95% confidence interval or a 99% confidence interval?\"\n",
    "\n",
    "How would you explain this to these young students, who are not fluent in any kind of science? (So, for example, spouting off theory and words like \"mean\" and \"z critical value\" probably won't mean anything to them.)"
   ]
  },
  {
   "cell_type": "markdown",
   "metadata": {
    "collapsed": true
   },
   "source": [
    "Think of a CI as a net and the mean as butterflues. Let us say you to try to catch 100 butterflies with your net and your it catches 95% of byutterflies. So, you will be catching more butterflies than if you had a ner that catches 90% of butterflies and you will be 95% confident you will catch the butterfly. Because you are catching more candy with the bag that does 95% well at catching butterflies, this net will be wider and so you would have a better chance of catching the butterfly. In other words, the 95% confidence interval is wider than a 90%."
   ]
  },
  {
   "cell_type": "markdown",
   "metadata": {},
   "source": [
    "**Part D:** You observe a sample of 73 pygmy hedgehogs and find that 49 of them are fantastic pets. Then, you observe a sample of 58 long-eared hedgehogs and find that 51 of them are fantastic pets.\n",
    "\n",
    "Is there statistical evidence at the 0.05 significance level that the true proportion of long-eared hedgehogs that make fantastic pets is 10% higher than the true proportion of pygmy hedgehogs that make fantastic pets? Perform a test that computes and properly interprets a p-value."
   ]
  },
  {
   "cell_type": "markdown",
   "metadata": {
    "collapsed": true
   },
   "source": [
    "Is there statistical evidence at the 0.05 significance level that the true proportion of long-eared hedgehogs that make fantastic pets is 10% higher than the true proportion of pygmy hedgehogs that make fantastic pets? Perform a test that computes and properly interprets a p-value.\n",
    "\n",
    "**H_0** = Proportion of long-eared hedgehogs that make fantastic pets - true proportion of pygmy hedgehogs that make fantastic pets = 10%\n",
    "\n",
    "**H_1** = Proportion of long-eared hedgehogs that make fantastic pets - true proportion of pygmy hedgehogs that make fantastic pets > 10%\n",
    "\n",
    "**T_S** = $\\frac{p_1 - p_2 - 0.1}{\\sqrt{\\frac{p_1 \\cdot ( 1 - p_1 )}{n_1} + \\frac{p_2 \\cdot (1 - p_2)}{n_2}}}$\n",
    "\n",
    "**T_S** = $\\frac{\\frac{51}{58} - \\frac{49}{73} - 0.1}{\\sqrt{\\frac{\\frac{51}{58} \\cdot ( 1 - \\frac{51}{58} )}{58} + \\frac{\\frac{49}{73} \\cdot (1 - \\frac{49}{73})}{73}}} = 1.55147$\n",
    "\n",
    "$\\text({p-value} = 0.060394950555197724) > (\\text{significance level} = 0.05)$\n",
    "\n",
    "\n",
    "**The p-value is greater than the significance level, thus it is not significant enough to reject the null hypothesis.**"
   ]
  },
  {
   "cell_type": "code",
   "execution_count": 67,
   "metadata": {},
   "outputs": [
    {
     "name": "stdout",
     "output_type": "stream",
     "text": [
      "P-Value: 0.060394950555197724\n",
      "Significance Level: 0.05\n"
     ]
    }
   ],
   "source": [
    "p1 = 51/58\n",
    "p2 = 49/73\n",
    "n1 = 58\n",
    "n2 = 73\n",
    "SE = np.sqrt(((p1 * (1-p1))/n1) + ((p2 * (1-p2))/n2))\n",
    "Z = (p1 - p2 - 0.1) / SE\n",
    "p_value = 1 - stats.norm.cdf(Z)\n",
    "print(\"P-Value:\", p_value)\n",
    "print(\"Significance Level:\", 0.05)"
   ]
  },
  {
   "cell_type": "markdown",
   "metadata": {},
   "source": [
    "**Part E**: Let $X$ be a normally-distributed random variable representing the difficulty of a homework problem in CSCI 3022. You draw from it more times than you care to count during the Spring 2019 semester and get the following values, stored in the numpy array **toughness**, below. Compute a 90% confidence interval for the _standard deviation_ in problem toughness."
   ]
  },
  {
   "cell_type": "code",
   "execution_count": 16,
   "metadata": {},
   "outputs": [],
   "source": [
    "toughness = np.array([7.7778,6.9459,5.8248,9.1111,6.0180,5.0898,7.0380,8.9273,2.9614,5.8387,6.0231])"
   ]
  },
  {
   "cell_type": "markdown",
   "metadata": {
    "collapsed": true
   },
   "source": [
    "**CI** = $[\\sqrt{\\frac{(n-1)s^2}{X^2_{1-\\frac{\\alpha}{2}}}}, \\sqrt{\\frac{(n-1)s^2}{X^2_{\\frac{\\alpha}{2}}}}]$"
   ]
  },
  {
   "cell_type": "code",
   "execution_count": 68,
   "metadata": {},
   "outputs": [
    {
     "name": "stdout",
     "output_type": "stream",
     "text": [
      "CI = [1.294838689983604, 2.79100177776099]\n"
     ]
    }
   ],
   "source": [
    "n = len(toughness)\n",
    "var = np.var(toughness, ddof = 1)\n",
    "alpha = 1 - (0.90)\n",
    "upLim = np.sqrt(((n-1)*var)/stats.chi2.ppf((alpha/2), (n-1)))\n",
    "lowLim = np.sqrt(((n-1)*var)/stats.chi2.ppf(1 - (alpha/2), (n-1)))\n",
    "print('CI = [' + str(lowLim) + ', ' + str(upLim) + ']')"
   ]
  },
  {
   "cell_type": "markdown",
   "metadata": {},
   "source": [
    "---\n",
    "\n",
    "<a id='p5'></a>\n",
    "[Back to top](#top)\n",
    "\n",
    "### [20 points] Problem 5 - Lies, damned lies, and statistics\n",
    "\n",
    "![frazz](http://3.bp.blogspot.com/-SbQUWRfHFXk/VdN8YWAy0WI/AAAAAAAAJLw/Ij5E0CbYk6g/s1600/lies3.gif)\n",
    "\n",
    "Legend of your Data Science prowess has spread o'er the land. You have been contacted by a shadowy organization to assess whether there is statistical evidence for sea-level rise in the area of Key West, Florida. You obtain from the University of Hawaii Sea Level Center's [gigantic repository of sea-level data](https://uhslc.soest.hawaii.edu/data/?rq) the daily mean sea levels file included in the zip folder for this assignment. The columns are, in order, the year, month, day-of-month and measured sea level (in millimeters)."
   ]
  },
  {
   "cell_type": "markdown",
   "metadata": {},
   "source": [
    "**Part A:** Load the data `sealevel_keywest.csv` into a Pandas DataFrame. Rename the columns as something meaningful in the context of this problem. Print to the screen the first 7 rows from your updated DataFrame."
   ]
  },
  {
   "cell_type": "code",
   "execution_count": 69,
   "metadata": {},
   "outputs": [
    {
     "data": {
      "text/html": [
       "<div>\n",
       "<style scoped>\n",
       "    .dataframe tbody tr th:only-of-type {\n",
       "        vertical-align: middle;\n",
       "    }\n",
       "\n",
       "    .dataframe tbody tr th {\n",
       "        vertical-align: top;\n",
       "    }\n",
       "\n",
       "    .dataframe thead th {\n",
       "        text-align: right;\n",
       "    }\n",
       "</style>\n",
       "<table border=\"1\" class=\"dataframe\">\n",
       "  <thead>\n",
       "    <tr style=\"text-align: right;\">\n",
       "      <th></th>\n",
       "      <th>year</th>\n",
       "      <th>month</th>\n",
       "      <th>day-of-month</th>\n",
       "      <th>sea level</th>\n",
       "    </tr>\n",
       "  </thead>\n",
       "  <tbody>\n",
       "    <tr>\n",
       "      <td>0</td>\n",
       "      <td>1913</td>\n",
       "      <td>1</td>\n",
       "      <td>20</td>\n",
       "      <td>1453</td>\n",
       "    </tr>\n",
       "    <tr>\n",
       "      <td>1</td>\n",
       "      <td>1913</td>\n",
       "      <td>1</td>\n",
       "      <td>21</td>\n",
       "      <td>1439</td>\n",
       "    </tr>\n",
       "    <tr>\n",
       "      <td>2</td>\n",
       "      <td>1913</td>\n",
       "      <td>1</td>\n",
       "      <td>22</td>\n",
       "      <td>1444</td>\n",
       "    </tr>\n",
       "    <tr>\n",
       "      <td>3</td>\n",
       "      <td>1913</td>\n",
       "      <td>1</td>\n",
       "      <td>23</td>\n",
       "      <td>1489</td>\n",
       "    </tr>\n",
       "    <tr>\n",
       "      <td>4</td>\n",
       "      <td>1913</td>\n",
       "      <td>1</td>\n",
       "      <td>24</td>\n",
       "      <td>1474</td>\n",
       "    </tr>\n",
       "    <tr>\n",
       "      <td>5</td>\n",
       "      <td>1913</td>\n",
       "      <td>1</td>\n",
       "      <td>25</td>\n",
       "      <td>1442</td>\n",
       "    </tr>\n",
       "    <tr>\n",
       "      <td>6</td>\n",
       "      <td>1913</td>\n",
       "      <td>1</td>\n",
       "      <td>26</td>\n",
       "      <td>1467</td>\n",
       "    </tr>\n",
       "  </tbody>\n",
       "</table>\n",
       "</div>"
      ],
      "text/plain": [
       "   year  month  day-of-month  sea level\n",
       "0  1913      1            20       1453\n",
       "1  1913      1            21       1439\n",
       "2  1913      1            22       1444\n",
       "3  1913      1            23       1489\n",
       "4  1913      1            24       1474\n",
       "5  1913      1            25       1442\n",
       "6  1913      1            26       1467"
      ]
     },
     "execution_count": 69,
     "metadata": {},
     "output_type": "execute_result"
    }
   ],
   "source": [
    "dfSEA = pd.read_csv('sealevel_keywest.csv', names = ['year', 'month', 'day-of-month', 'sea level'])\n",
    "dfSEA.head(7)"
   ]
  },
  {
   "cell_type": "markdown",
   "metadata": {},
   "source": [
    "**Part B:**  Plot the raw time series of sea levels. Be sure to label your axes, including units. For the $x$-axis, place the $x$ tick marks on January 2 of each year that is divisible by 10 (i.e., 1920, 1930, ...), and label with that year. You may need to do additional processing in order to grab these indices. "
   ]
  },
  {
   "cell_type": "code",
   "execution_count": 71,
   "metadata": {},
   "outputs": [
    {
     "data": {
      "text/plain": [
       "Text(0.5, 1.0, 'Key West Sea Level')"
      ]
     },
     "execution_count": 71,
     "metadata": {},
     "output_type": "execute_result"
    },
    {
     "data": {
      "image/png": "[encoded data removed]",
      "text/plain": [
       "<Figure size 864x432 with 1 Axes>"
      ]
     },
     "metadata": {
      "needs_background": "light"
     },
     "output_type": "display_data"
    }
   ],
   "source": [
    "xtick = dfSEA.index[(dfSEA['month'] == 1) & (dfSEA['day-of-month'] == 2) & (dfSEA['year'] % 10 == 0)]\n",
    "fig, ax = plt.subplots(figsize=(12, 6))\n",
    "dfSEA['sea level'].plot()\n",
    "\n",
    "ax.set_xticks(xtick)\n",
    "ax.set_xticklabels(dfSEA.loc[xtick, 'year'])\n",
    "ax.set_xlabel('Year', fontsize = 12)\n",
    "ax.set_ylabel('Measured Sea Level (mm)', fontsize = 12)\n",
    "ax.set_title('Key West Sea Level', fontsize = 18)"
   ]
  },
  {
   "cell_type": "markdown",
   "metadata": {},
   "source": [
    "**Part C:** Your time series plot from Part B should look pretty funky. Namely, there are a bunch of spikes in it! What do you think these spikes represent?\n",
    "\n",
    "Now, clean your data set by doing the following:\n",
    "* Remove any data points associated with these spikes. You may need to look back to some of the earlier in-class notebooks and Pandas tutorials for how to drop data points from a Pandas DataFrame. \n",
    "* Include only the data point from the second day of each month.\n",
    "* Convert the sea-level data from millimeters to feet.\n",
    "\n",
    "Then, make a similar plot to Part B, but of your cleaned data set. Be sure to label axes (including units) and only label January 2 of each year that is divisible by 10."
   ]
  },
  {
   "cell_type": "markdown",
   "metadata": {},
   "source": [
    "\n",
    "I think that the spikes in the plot represent missing data that is indicated by negative values.¶"
   ]
  },
  {
   "cell_type": "code",
   "execution_count": 72,
   "metadata": {},
   "outputs": [
    {
     "data": {
      "text/plain": [
       "Text(0.5, 1.0, 'Key West Sea Level')"
      ]
     },
     "execution_count": 72,
     "metadata": {},
     "output_type": "execute_result"
    },
    {
     "data": {
      "image/png": "[encoded data removed]",
      "text/plain": [
       "<Figure size 720x360 with 1 Axes>"
      ]
     },
     "metadata": {
      "needs_background": "light"
     },
     "output_type": "display_data"
    }
   ],
   "source": [
    "dfSEA_clean = dfSEA.copy()\n",
    "dfSEA_clean = dfSEA_clean.loc[(dfSEA_clean['sea level'] > -5000) & (dfSEA_clean['day-of-month'] == 2)]\n",
    "xtick = dfSEA_clean.index[(dfSEA_clean['month'] == 1) & (dfSEA_clean['year'] % 10 == 0)]\n",
    "fig, ax = plt.subplots(figsize=(10,5))\n",
    "dfSEA_clean['sea level'] *= 0.0032808\n",
    "dfSEA_clean['sea level'].plot()\n",
    "\n",
    "ax.set_xticks(xtick)\n",
    "ax.set_xticklabels(dfSEA_clean.loc[xtick, 'year'])\n",
    "ax.set_xlabel('Year', fontsize = 12)\n",
    "ax.set_ylabel('Measured Sea Level (ft)', fontsize = 12)\n",
    "ax.set_title('Key West Sea Level', fontsize = 18)"
   ]
  },
  {
   "cell_type": "markdown",
   "metadata": {},
   "source": [
    "**Part D:** Your mysterious employer owns a lot of beachfront property in Key West and does not want to see people shy away from buying real estate and spending time near the sea. So, they really want to convince others to that the mean sea level in Key West in not increasing. Toward this end, your employer wants to find a decade of data (11 years, including both end points) that has a mean sea level which is not statistically significantly different from the mean sea level in the decade 2000-2010 (including data from both 2000 and 2010). Your employer wants you to use the 99% confidence/1% significance level because it sounds catchy in a press release, and wants the *earliest* decade possible.\n",
    "\n",
    "Use your cleaned monthly data set from Part C to find the earliest decade for which you cannot conclude the mean sea level at Key West was statistically significantly different from the mean sea level in the 2000-2010 decade. You may want to write a helper function to compute the confidence intervals/perform the hypothesis test for you, because there are a LOT of possible 11-year periods to try.\n",
    "\n",
    "You may use either hypothesis tests or confidence intervals, but clearly state which method you will use, your results and show all work that leads to your conclusion. "
   ]
  },
  {
   "cell_type": "markdown",
   "metadata": {
    "collapsed": true
   },
   "source": [
    "\n",
    "We use a two sample confidence interval to find the first decade that has a mean sea level which is not statistically significantly different from the mean sea level in the decade 2000-2010. \n",
    "\n",
    "\n",
    "$\\large \\bar x_1 - \\bar x_2 \\pm z_{\\frac{\\alpha}{2}} \\cdot \\sqrt{\\frac{{s_1}^2}{n_1} + \\frac{{s_2}^2}{n_2}}$"
   ]
  },
  {
   "cell_type": "code",
   "execution_count": 73,
   "metadata": {},
   "outputs": [
    {
     "name": "stdout",
     "output_type": "stream",
     "text": [
      "Decade: 1984-1994\n"
     ]
    }
   ],
   "source": [
    "def helper(lowerYear, upperYear):\n",
    "    compare = dfSEA_clean.loc[(dfSEA_clean['year'] >= lowerYear) & (dfSEA_clean['year'] <= upperYear)]\n",
    "    x_2 = compare['sea level'].mean()\n",
    "    s2 = np.var(compare['sea level'], ddof = 1)\n",
    "    n2 = len(compare)\n",
    "    return x_2, s2, n2\n",
    "    \n",
    "now = dfSEA_clean.loc[(dfSEA_clean['year'] >= 2000) & (dfSEA_clean['year'] <= 2010)]\n",
    "x_1 = now['sea level'].mean()\n",
    "alpha = 1 - 0.99\n",
    "Z = stats.norm.ppf(1 - (alpha/2))\n",
    "s1 = np.var(now['sea level'], ddof = 1)\n",
    "n1 = len(now)\n",
    "years = range(1960, 2001, 1)\n",
    "for i in years: \n",
    "    x_2, s2, n2 = helper(i, i+10) \n",
    "    CIlower = x_1 - x_2 - Z * math.sqrt(s1/n1 + s2/n2)\n",
    "    CIupper = x_1 - x_2 + Z * math.sqrt(s1/n1 + s2/n2)\n",
    "    if(CIlower <= 0 and CIupper >= 0):\n",
    "        print(\"Decade: \" + str(i) + '-' + str(i + 10)) \n",
    "        break"
   ]
  },
  {
   "cell_type": "markdown",
   "metadata": {},
   "source": [
    "The first decade that has a mean sea level which is not statistically significantly different from the mean sea level in the decade 2000-2010 is 1984-1994 because this decade contains 0 in the two sample CI. This shows that the mean is not statistically significantly different from the mean sea level in from the decade 2000-2010."
   ]
  },
  {
   "cell_type": "code",
   "execution_count": null,
   "metadata": {},
   "outputs": [],
   "source": []
  }
 ],
 "metadata": {
  "kernelspec": {
   "display_name": "Python 3",
   "language": "python",
   "name": "python3"
  },
  "language_info": {
   "codemirror_mode": {
    "name": "ipython",
    "version": 3
   },
   "file_extension": ".py",
   "mimetype": "text/x-python",
   "name": "python",
   "nbconvert_exporter": "python",
   "pygments_lexer": "ipython3",
   "version": "3.7.4"
  }
 },
 "nbformat": 4,
 "nbformat_minor": 2
}
