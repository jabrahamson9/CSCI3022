{
 "cells": [
  {
   "cell_type": "markdown",
   "metadata": {},
   "source": [
    "<a id='top'></a>\n",
    "\n",
    "# CSCI 3022: Intro to Data Science - Spring 2020 Practicum 1\n",
    "***\n",
    "\n",
    "This practicum is due on Canvas by **11:59 PM on Monday March 2**. Your solutions to theoretical questions should be done in Markdown/MathJax directly below the associated question.  Your solutions to computational questions should include any specified Python code and results as well as written commentary on your conclusions.  \n",
    "\n",
    "**Here are the rules:** \n",
    "\n",
    "1. All work, code and analysis, must be your own. \n",
    "1. You may use your course notes, posted lecture slides, textbooks, in-class notebooks, and homework solutions as resources.  You may also search online for answers to general knowledge questions like the form of a probability distribution function or how to perform a particular operation in Python/Pandas. \n",
    "1. This is meant to be like a coding portion of your midterm exam. So, the instructional team will be much less helpful than we typically are with homework. For example, we will not check answers, help debug your code, and so on.\n",
    "1. If something is left open-ended, it is because we want to see how you approach the kinds of problems you will encounter in the wild, where it will not always be clear what sort of tests/methods should be applied. Feel free to ask clarifying questions though.\n",
    "2. You may **NOT** post to message boards or other online resources asking for help.\n",
    "3. You may **NOT** copy-paste solutions *from anywhere*.\n",
    "4. You may **NOT** collaborate with classmates or anyone else.\n",
    "5. In short, **your work must be your own**. It really is that simple.\n",
    "\n",
    "Violation of the above rules will result in an immediate academic sanction (*at the very least*, you will receive a 0 on this practicum or an F in the course, depending on severity), and a trip to the Honor Code Council.\n",
    "\n",
    "**By submitting this assignment, you agree to abide by the rules given above.**\n",
    "\n",
    "***\n",
    "\n",
    "**Name**:  \n",
    "\n",
    "***\n",
    "\n",
    "\n",
    "**NOTES**: \n",
    "\n",
    "- You may not use late days on the practicums nor can you drop your practicum grades. \n",
    "- If you have a question for us, post it as a **PRIVATE** message on Piazza.  If we decide that the question is appropriate for the entire class, then we will add it to a Practicum clarifications thread. \n",
    "- Do **NOT** load or use any Python packages that are not available in Anaconda 3.6. \n",
    "- Some problems with code may be autograded.  If we provide a function API **do not** change it.  If we do not provide a function API then you're free to structure your code however you like. \n",
    "- Submit only this Jupyter notebook to Canvas.  Do not compress it using tar, rar, zip, etc. \n",
    "- This should go without saying, but... For any question that asks you to calculate something, you **must show all work to receive credit**. Sparse or nonexistent work will receive sparse or nonexistent credit.\n",
    "\n",
    "---\n"
   ]
  },
  {
   "cell_type": "code",
   "execution_count": 1,
   "metadata": {},
   "outputs": [],
   "source": [
    "from scipy import stats\n",
    "import numpy as np \n",
    "import pandas as pd\n",
    "import matplotlib.pyplot as plt\n",
    "%matplotlib inline"
   ]
  },
  {
   "cell_type": "markdown",
   "metadata": {},
   "source": [
    "<br>\n",
    "\n",
    "\n",
    "\n",
    "### [30 points] Problem 1: Gambling With A Peg Legged Pirate:"
   ]
  },
  {
   "cell_type": "markdown",
   "metadata": {},
   "source": [
    "You're a time traveling data scientist, and have traveled way back to the year 1654. Immediately upon arriving you're picked up by a bunch of pirates, and made to join a pirate crew. When the pirates realize that you're immensely knowledgable about probabilities and statistics, they promote you to be their captain! You rename the ship to be the \"Certain Probability of Death\", and set out upon the high seas. After a few days of sailing you come upon another band of buccaneers in their ship. Their captain, Peg Leg Pascal Fermat, challanges you to a gambling game, but you're not sure if you should play it. The rules for the game are below:\n",
    "\n",
    "* You and Peg Leg Pascal Fermat will take turns repeatedly rolling a 20 sided die. The die has values 1 - 20 on it.\n",
    "\n",
    "\n",
    "* **On your turn, the rules are as follows:**\n",
    "1. If you roll the same value as what Peg Leg Pascal Fermat rolled on his last turn, you have to give him 5 dubloons. Do not perform any additional actions from the below list of rules if you rolled the same value as what Peg Leg Pascal Fermat rolled on his last turn. Otherwise:\n",
    "2. If you roll an 8, Peg Leg Pascal Fermat will give you two gold dubloons.\n",
    "3. If you roll a 7, Peg Leg Pascal Fermat will give you four gold dubloon.\n",
    "4. If you roll a 15, you have to give Peg Leg Pascal Fermat one dubloon. \n",
    "5. If you roll a 1, the game ends.\n",
    "6. If you roll any other value, nothing happens. \n",
    "\n",
    "\n",
    "* **On Peg Leg Pascal Fermat's turn the rules are as follows:**\n",
    "1. If Peg Leg Pascal Fermat rolls the same number as you did on your last turn, he then rolls a different 19 sided die. When he rolls again, if he rolls a 19, **you must pay him** 100 dubloons. If he rolls anything other than a 19, **he must pay you** the same number of dubloons as the value of the roll. E.g. If he rolls a 10, he gives you 10 dubloons, but if he rolls a 19 you give him 100 dubloons. When he rolls again, he does not perform any other rules from the below list.\n",
    "2. If Peg Leg Pascal Fermat rolls a 2, he must give you one gold dubloon.\n",
    "3. If Peg Leg Pascal Fermat rolls a 14, you must give him two dubloons.\n",
    "4. If Peg leg Pascal Fermat rolls a 17, you must give him three dubloons.\n",
    "5. If Peg Leg Pascal Fermat rolls a 1, the game ends.\n",
    "\n",
    "6. If Peg Leg Pascal Fermat rolls a 3, he takes off his peg leg, and gives you the leg. Who knows... Maybe it will be usefull if you lose your leg? \n",
    "7. If Peg Leg Pascal Fermat rolls a 3 and he has already given you his peg leg, he must give you 3 dubloons. \n",
    "8. If he rolls any other values, nothing happens.\n",
    "<img src=\"data:image/jpeg;base64,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\" style=\"width: 150px;\"/>"
   ]
  },
  {
   "cell_type": "markdown",
   "metadata": {},
   "source": [
    "**Part A:** Without doing any extensive math or simulations, predict whether this game will result in your making or loosing money. Would you play it? Any logical non-empty answer will get credit here, so don't worry about if your prediction is actually right."
   ]
  },
  {
   "cell_type": "markdown",
   "metadata": {},
   "source": [
    "Initially looking at the game we can see that when rolling the 20 sided die, each option has a uniform 1/20 chance. So on my roll, because each option is equally as likely, we can just take the difference of the possible dubloon exchanges to see who has the better chance of making money. In this case for my roll it is an even chance of gaining or losing money -5 + 2 + 4 - 1 = 0. For the Pirate's turn, we can approach it the same as long as we initally leave out the chance that the pirate rolls the same value as I did on the last turn. If we add of all the dubloom exchanges + 1 - 2 - 3 + 3 = -1. On average the Pirate will barely win (withou accounting for the chance the Pirate rolls the same number as me). Because of this, it seems most of the earning/losses will come from the this side chance that the Pirate rolls the same number as me and thus rolls the 19 sided die. Here there is a 1/19 chance for each option and only one of which involves me lpsing dublooms. So there is a 1/19 chance I lose -100 dublooms and a 1/19 I make 18, 1/19 I make 17, 1/19 I make 16, ..etc. So if we add up all the dubloom exchanges for the 19 sided die then we have that on 19 rolls there \"should\" be a net dubloom exchange of -100 + 18 + 17 + 16 + ... + 1 = 71. So, I am happy to be playing the game because I know that if the pirate rolls the same number as me, I have a much higher chance of making money, and if he never rolls the same number as me and we never use the 19 sided die, then my losses are minimal."
   ]
  },
  {
   "cell_type": "markdown",
   "metadata": {},
   "source": [
    "**Part B:** Luckily, when you time traveled back to 1654, you brought your laptop with you! Use Python to simulate 10,000 games following the above rules. Record your winnings or losings for each game in an array. Record the games in which you lost money with a negative value (amount you lost), and games in which you won money with a positive value (amount you won). Assume you always go first. You may write multiple functions or use multiple jupyter notebook cells to write your code, how you structure it is up to you. You may use any Numpy or Pandas functions you find useful, but may not import any additional libraries. Calculate the median amount you win or lose, and report it in markdown below. Based on the median value, would you play the game?"
   ]
  },
  {
   "cell_type": "code",
   "execution_count": 6,
   "metadata": {},
   "outputs": [
    {
     "name": "stdout",
     "output_type": "stream",
     "text": [
      "Median:  0\n"
     ]
    }
   ],
   "source": [
    "def MyTurn(prev_roll):\n",
    "    dubloom = 0\n",
    "    roll = np.random.randint(1, 21)\n",
    "    if roll == prev_roll:\n",
    "        dubloom = dubloom - 5\n",
    "    elif roll == 8:\n",
    "        dubloom = dubloom + 2\n",
    "    elif roll == 7:\n",
    "        dubloom = dubloom + 4\n",
    "    elif roll == 15:\n",
    "        dubloom = dubloom - 1\n",
    "    return dubloom, roll\n",
    "\n",
    "def PirateTurn(prev_roll):\n",
    "    dubloom = 0\n",
    "    roll = np.random.randint(1, 21)\n",
    "    if roll == prev_roll:\n",
    "        roll_19 = np.random.randint(1, 20)\n",
    "        if roll_19 == 19:\n",
    "            dubloom = dubloom - 100\n",
    "        else:\n",
    "            dubloom = dubloom + roll_19\n",
    "    elif roll == 2:\n",
    "        dubloom = dubloom + 1\n",
    "    elif roll == 14:\n",
    "        dubloom = dubloom - 2\n",
    "    elif roll == 17:\n",
    "        dubloom = dubloom - 3\n",
    "    elif roll == 3:\n",
    "        dubloom = dubloom + 3\n",
    "    return dubloom, roll\n",
    "\n",
    "results = []\n",
    "for game in range(0, 10000):\n",
    "    my_dubloom = 0\n",
    "    roll = 0\n",
    "    while roll != 1:\n",
    "        dubloom_turn, roll = MyTurn(roll)\n",
    "        my_dubloom = my_dubloom + dubloom_turn\n",
    "        if roll != 1: #incase my turns roll is a 1 so that the next turn doesnt execute\n",
    "            dubloom_turn, roll = PirateTurn(roll)\n",
    "            my_dubloom = my_dubloom + dubloom_turn\n",
    "    results.append(my_dubloom)\n",
    "    \n",
    "if len(results) % 2 == 0:\n",
    "    results.sort()\n",
    "    median = (results[int(len(results)/2 - 1)] + results[int(len(results)/2)]) / 2\n",
    "else:\n",
    "    results.sort()\n",
    "    median = (results[int((len(results) - 1) / 2)] )\n",
    "print(\"Median: \", int(median))\n",
    "    \n",
    "\n",
    "    \n",
    "\n",
    "    "
   ]
  },
  {
   "cell_type": "markdown",
   "metadata": {},
   "source": [
    "Based on the Median value = 0, we can not tell whether or not we should play the game. We know there are results where you lose money, make monkey, and break even, but do not know the distribution or the range of the data on either end. All this tells me is there is a good chance I break even."
   ]
  },
  {
   "cell_type": "markdown",
   "metadata": {},
   "source": [
    "**Part C:** Calculate a Tukey 5 Number Summary and the mean value for your array of simulated winnings/losings. Based on this information would you play the game? Are any of these metrics more useful than others? Which metrics would be important if we were deciding to play a single game? Which would be more important if we were deciding to play a very large number of games? "
   ]
  },
  {
   "cell_type": "code",
   "execution_count": 7,
   "metadata": {},
   "outputs": [
    {
     "name": "stdout",
     "output_type": "stream",
     "text": [
      "Min:  -301\n",
      "Q1:  -1\n",
      "Median:  0\n",
      "Q3:  7\n",
      "Max:  66\n",
      "Mean:  1.6156\n"
     ]
    }
   ],
   "source": [
    "sum = 0\n",
    "for i in range(0, len(results)):\n",
    "    sum = sum + results[i]\n",
    "mean = sum / len(results)\n",
    "\n",
    "def MedianHelper(results):\n",
    "    if len(results) % 2 == 0:\n",
    "        results.sort()\n",
    "        median = (results[int(len(results)/2 - 1)] + results[int(len(results)/2)]) / 2\n",
    "    else:\n",
    "        results.sort()\n",
    "        median = (results[int((len(results) - 1) / 2)] )\n",
    "    return int(median)\n",
    "\n",
    "if len(results) % 2 == 0:\n",
    "    results.sort()\n",
    "    median = MedianHelper(results)\n",
    "    Q1_arr = results[0:int(len(results)/2)]\n",
    "    Q1 = MedianHelper(Q1_arr)\n",
    "    Q3_arr = results[int(len(results)/2):-1]\n",
    "    Q3 = MedianHelper(Q3_arr)\n",
    "    minimum = results[0]\n",
    "    maximum = results[-1]            \n",
    "else:\n",
    "    results.sort()\n",
    "    median = MedianHelper(results)\n",
    "    Q1_arr = results[0:int((len(results)+1)/2)]\n",
    "    Q1 = MedianHelper(Q1_arr)\n",
    "    Q3_arr = results[int((len(results)+1)/2):-1]\n",
    "    Q3 = MedianHelper(Q3_arr)\n",
    "    minimum = results[0]\n",
    "    maximum = results[-1]   \n",
    "\n",
    "print(\"Min: \", minimum)\n",
    "print(\"Q1: \", Q1)\n",
    "print(\"Median: \", median)\n",
    "print(\"Q3: \", Q3)\n",
    "print(\"Max: \", maximum)\n",
    "print(\"Mean: \", mean)\n"
   ]
  },
  {
   "cell_type": "markdown",
   "metadata": {},
   "source": [
    "Based on this data I can see there is potential for big loss, but that the majority of the data results in positive earnings or a left skew. We see that the mean earnings is also slightly positive so I should expect to make money. I would choose to play the game.\n",
    "\n",
    "Each metric tells a unique story of the data set. The max and min show the win/loss potentials. This is important to see if you can afford to lost big or if it is worth it to try to win big. The mean shows the average payout. Evaluating Q1, median, and Q2 together we can see the skew of the data. Here it is apparent there is a left skew because (Q3-median) > (median-Q1), so more games ended in a positive payout. None are necessarily more important than the other.\n",
    "\n",
    "For a single game, the most important metric would be evaluating the mean. This will tell us how likely we are to walk away with a net gain.\n",
    "\n",
    "For multiple games, the most important metric would beevaluating the Q1, median, and Q3. This will tell us about the distributions of the earning's frequencies. Here we can see that there is a left skew because (Q3-median) > (median-Q1), so more games ended in a positive payout."
   ]
  },
  {
   "cell_type": "markdown",
   "metadata": {},
   "source": [
    "**Part D:** After seeing the numbers in **Part C**, we decide to play a few games with Peg Leg Pascal Fermat (You might want to double check you simulation in **Part B** if the mean value doesn't come out slightly positive in **Part C**). You play 10 rounds and it seems like he might be cheating. You just can't win, and you're losing a ton of money! Maybe Peg Leg Pascal Fermat has a loaded die. However, you've found a .csv file buried in the sand. It has the winnings and losings of another player who was playing the same game against Peg Leg Pascal Fermat. We'll use this information to figure out if he is cheating. Read in the file`Pascal_Fermat_Games.csv`. Each row contains the results of a game that another player played against Peg Leg Pascal Fermat. It's a little bit dirty (after all this .csv was buried in the sand). Perform the following cleaning tasks:\n",
    "1. Read in the .csv. If you have any trouble reading in the file, open it in a text editor and take a look at it. You might find the pandas documentation for the `read_csv` function and some of the optional arguments useful. \n",
    "2. Look at the two columns. One of them is useless. Drop the useless one.\n",
    "3. Drop any strings of non-integer data.\n",
    "3. Check to see if any of our values are floating point values. If there are any, drop them. \n",
    "5. Drop any values that are over 1000 or under -1000. \n",
    "6. Print the number of rows remaining.\n",
    "\n",
    "After doing all that, you should have 9661 rows of data left."
   ]
  },
  {
   "cell_type": "code",
   "execution_count": 8,
   "metadata": {},
   "outputs": [
    {
     "name": "stdout",
     "output_type": "stream",
     "text": [
      "Rows:  9661\n"
     ]
    }
   ],
   "source": [
    "data = pd.read_csv(\"Pascal_Fermat_Games.csv\", \";\")\n",
    "data = data.drop(['Game Number'], axis=1)\n",
    "data = data[data.Winnings.str.find('.') == -1] #To get rid of floating point numbers\n",
    "data = data.dropna(subset=['Winnings']) #drop NA sets incase\n",
    "data = data[data[['Winnings']].apply(lambda x: x[0].lstrip('-').isdigit(), axis=1)] #keep all remaining numbers, the lstrip keeps negative numbers\n",
    "data['Winnings'] = pd.to_numeric(data['Winnings']) #convert to integers\n",
    "data = data[data['Winnings'] > -1000]\n",
    "data = data[data['Winnings'] < 1000]\n",
    "print(\"Rows: \", len(data))"
   ]
  },
  {
   "cell_type": "markdown",
   "metadata": {},
   "source": [
    "**Part E:** Create a density histogram with both our siumulated data and our data from the `Pascal_Fermat_Games.csv` file overlayed on the same set of axes. Ensure your plot is legible and contains all of the common labels/titles/etc. Make sure you use enough bins to make the data easly visible. To make the graph easy to read, it's fine to limit the x range to avoid showing large areas with very few occurances of data. This problem will largely be graded based on how nice and easy to interpret your plot is, so do your best.\n",
    "\n",
    "One Annoying thing about matplotlib is how small the font on the titles/axis labels/etc. Do some googling and figure out how to change the matplotlib font sizes. ***CITE YOUR SOURCES IF YOU USE ANYTHING OTHER THAN THE MATPLOTLIB DOCUMENTATION PAGES.***. Change the axes label font to be 14pt, the x-tick and y-tick font to be 8pt, the title font to be 16pt, and the legend font to be 12pt. Isn't that nicer? "
   ]
  },
  {
   "cell_type": "code",
   "execution_count": 9,
   "metadata": {},
   "outputs": [
    {
     "data": {
      "image/png": "[encoded data removed]",
      "text/plain": [
       "<Figure size 864x432 with 1 Axes>"
      ]
     },
     "metadata": {
      "needs_background": "light"
     },
     "output_type": "display_data"
    }
   ],
   "source": [
    "bins = range(-230,100,10)\n",
    "fig, ax = plt.subplots(figsize=(12,6))\n",
    "\n",
    "my_df = pd.DataFrame(results, columns=[\"Winnings\"])\n",
    "old_df = data\n",
    "\n",
    "old_df.hist(column=\"Winnings\", ax=ax, facecolor=\"coral\", edgecolor=\"white\",bins=bins, alpha=0.5, label=\"Old Winnings\", density=True)\n",
    "my_df.hist(column=\"Winnings\", ax=ax, facecolor=\"seagreen\", edgecolor=\"white\",bins=bins, alpha=0.3, label=\"My Winnings\", density=True)\n",
    "\n",
    "ax.set_xlabel(\"Winnings (dublooms)\", fontsize=14)\n",
    "ax.set_ylabel(\"Frequency\", fontsize=14)\n",
    "ax.set_title(\"Frequency of Winnings\", fontsize=16)\n",
    "ax.grid(alpha=0.25)\n",
    "ax.set_axisbelow(True)\n",
    "ax.tick_params(axis='both', labelsize=8)\n",
    "ax.legend(fontsize=12);\n"
   ]
  },
  {
   "cell_type": "markdown",
   "metadata": {},
   "source": [
    "**Part F:** Print out the Tukey 5 number summary of the data from the .csv file. Based on this and the histogram above, make an argument as to whether Peg Leg Pascal Fermat is cheating or not."
   ]
  },
  {
   "cell_type": "code",
   "execution_count": 10,
   "metadata": {},
   "outputs": [
    {
     "name": "stdout",
     "output_type": "stream",
     "text": [
      "Min:  -476\n",
      "Q1:  -11\n",
      "Median:  0\n",
      "Q3:  9\n",
      "Max:  162\n",
      "Mean:  -15.74795569816789\n"
     ]
    }
   ],
   "source": [
    "results = old_df['Winnings'].values\n",
    "\n",
    "sum = 0\n",
    "for i in range(0, len(results)):\n",
    "    sum = sum + results[i]\n",
    "mean = sum / len(results)\n",
    "\n",
    "if len(results) % 2 == 0:\n",
    "    results.sort()\n",
    "    median = MedianHelper(results)\n",
    "    Q1_arr = results[0:int(len(results)/2)]\n",
    "    Q1 = MedianHelper(Q1_arr)\n",
    "    Q3_arr = results[int(len(results)/2):-1]\n",
    "    Q3 = MedianHelper(Q3_arr)\n",
    "    minimum = results[0]\n",
    "    maximum = results[-1]            \n",
    "else:\n",
    "    results.sort()\n",
    "    median = MedianHelper(results)\n",
    "    Q1_arr = results[0:int((len(results)+1)/2)]\n",
    "    Q1 = MedianHelper(Q1_arr)\n",
    "    Q3_arr = results[int((len(results)+1)/2):-1]\n",
    "    Q3 = MedianHelper(Q3_arr)\n",
    "    minimum = results[0]\n",
    "    maximum = results[-1]   \n",
    "\n",
    "print(\"Min: \", minimum)\n",
    "print(\"Q1: \", Q1)\n",
    "print(\"Median: \", median)\n",
    "print(\"Q3: \", Q3)\n",
    "print(\"Max: \", maximum)\n",
    "print(\"Mean: \", mean)"
   ]
  },
  {
   "cell_type": "markdown",
   "metadata": {},
   "source": [
    "I believe Pascall is cheating. If we look at the overlaying histogram from Part E, we can see that our simulations resulted in far more net winnings between (0, 20] dublooms than the old .csv we dug up. Also we see a rise in probability of a net loss between (-120 and -50) dublooms in the old .csv that is not present in our simulation. Using this information we can predict that Pascall's 19 sided die is biased heavily toward landing on a 19. This is apparent in the histogram from Part E. We know from our simulations that if you play 10,000 games, the winnings should be skewed left in our favor. The only way to really loose big is if Pascall rolls a 19 after rolling the same number as you on the previous turn. This results in you giving Pascall 100 dublooms.\n",
    "\n",
    "So, if we rturn to the histogram from Part E, we can see that there is a high frequency of Losses around or slightly less than 100 dublooms and there are few games that resulted in losses from (-100, 0). This tells us that at some point in the game, Pascall rolled a 19 using his 19 sided die, and the rest of the game continued as simulated. Thus if Pascall does sucessfully force you to pay 100 dublooms by rolling a 19, the net loss of the game should resemble something around -100+mean. \n",
    "\n",
    "There is also a higtened frequency of net losses of around 200 dublooms. This means that in one game, Pascall rolled a 19 using his 19 sided die twice. This would result in me paying Pascall 200 dublooms. This further supports the claim that pascall rigged his 19 sided die to land on 19.\n",
    "\n",
    "In conclusion, Pascall is cheating. He is very sneaky however. He does not rig the 20 sided die that is used the majority of the game, instead he rigs the 19 sided die that can only be used when Pascall rolls the same number as I did on the previous turn. Pascall makes it so if this opportuninty arises, there is a very high chance his bias 19 sided die will land on a 19 resulting in me paying Pascall 100 dublooms... This is hard to come back from given the small payouts of all the other options.\n",
    "\n"
   ]
  },
  {
   "cell_type": "markdown",
   "metadata": {},
   "source": [
    "**Part G:** In this problem you were transported back to the year 1654. Find out why the year 1654 is important in the fields of mathematics and data science. "
   ]
  },
  {
   "cell_type": "markdown",
   "metadata": {},
   "source": [
    "This was the year that Blaise Pascall began researching philosophy and theology which resulted in him discovering what is now Pascall's Triangle"
   ]
  },
  {
   "cell_type": "markdown",
   "metadata": {},
   "source": [
    "<br>\n",
    "\n",
    "---\n",
    "[Back to top](#top)\n",
    "<a id='p2'></a>\n",
    "\n",
    "### [30 points] Problem 2: Sonic or Tails?"
   ]
  },
  {
   "cell_type": "markdown",
   "metadata": {},
   "source": [
    "<img src=\"http://www.cs.colorado.edu/~tonyewong/home/resources/hedgehog_coin.jpg\" style=\"width: 500px;\"/>"
   ]
  },
  {
   "cell_type": "markdown",
   "metadata": {},
   "source": [
    "In the file `flipadelphia.csv` you will find the results of an experiment that was conducted by Amy, the famous hedgehog data scientist, as she was flipping a coin one sunny day in a meadow. This is no ordinary coin, however: this coin has on one side Sonic, and on the other side Tails! The two sides of this coin are above, and at [this link](http://www.cs.colorado.edu/~tonyewong/home/resources/hedgehog_coin.jpg).\n",
    "\n",
    "In Amy's experiment she repeatedly flipped the coin until it came up Sonic. After each trial, she recorded her observed value for $X=$ the number of flips required to see the first Sonic. The results are stored in `flipadelphia.csv`.\n",
    "\n",
    "Amy has a lot of coins for performing cool data science experiments, and these coins have different biases (not all unique). Amy is a forgetful hedgehog, so she isn't sure which coin she was flipping. Her coins have biases of $p_S=.2, .3, .4, .5, .6, .7$ and $.8$, where $p_S$ is the probability of any given flip coming up Sonic."
   ]
  },
  {
   "cell_type": "markdown",
   "metadata": {},
   "source": [
    "**Part A:** Read in the data set and make a frequency histogram of the data. Be sure to label your axes appropriately, and center your bins above the integer numbers of flips (0, 1, 2, etc...). What is the name of the distribution for the random variable that Amy observed and recorded in her data table?"
   ]
  },
  {
   "cell_type": "code",
   "execution_count": 11,
   "metadata": {},
   "outputs": [
    {
     "data": {
      "text/plain": [
       "Text(0.5, 1.0, \"Flips Until 'Sonic' is Seen\")"
      ]
     },
     "execution_count": 11,
     "metadata": {},
     "output_type": "execute_result"
    },
    {
     "data": {
      "image/png": "[encoded data removed]",
      "text/plain": [
       "<Figure size 864x432 with 1 Axes>"
      ]
     },
     "metadata": {
      "needs_background": "light"
     },
     "output_type": "display_data"
    }
   ],
   "source": [
    "df = pd.read_csv(\"flipadelphia.csv\", header = None, usecols=[0], names=['Flips'])\n",
    "bins = [0.5,1.5,2.5,3.5,4.5,5.5]\n",
    "plt.figure(figsize=(12,6))\n",
    "plt.hist(df['Flips'], bins=bins,edgecolor='white')\n",
    "plt.ylabel(\"Frequency of Flips\", fontsize = 12)\n",
    "plt.xlabel(\"Number of Flips\", fontsize = 12)\n",
    "plt.title(\"Flips Until 'Sonic' is Seen\", fontsize = 16)"
   ]
  },
  {
   "cell_type": "markdown",
   "metadata": {},
   "source": [
    "This is a Geometric Distribution because we are counting the number of flips (fails) until she observes her first success of seeing Sonic."
   ]
  },
  {
   "cell_type": "markdown",
   "metadata": {},
   "source": [
    "**Part B:** Use the distribution that you identified in Part A to determine $P(X=n \\mid p_S=0.5)$, the probability that Amy would observe the first Sonic flip on the $n$-th flip, assuming that the coin is fair ($p_S=0.5$), for each of the $n$ from her 10 trials in her data set. Then, combine these to find the overall *likelihood* that she would observe her entire data set, assuming that the coin was fair. That is, estimate $P(\\text{data} \\mid p_S=0.5)$. Be sure to note any assumptions you make about how the outcome of one trial relates to the outcomes of the others.\n",
    "\n",
    "If it helps to have some mathematical notation, consider that Amy's data set consists of the results of all 10 of her trials: $$\\text{data} = (X_1 = n_1) \\cap (X_2 = n_2) \\cap \\ldots (X_{10} = n_{10})$$"
   ]
  },
  {
   "cell_type": "code",
   "execution_count": 12,
   "metadata": {},
   "outputs": [
    {
     "name": "stdout",
     "output_type": "stream",
     "text": [
      "P(X = 1 | ps = 0.5) = 0.5\n",
      "P(X = 2 | ps = 0.5) = 0.25\n",
      "P(X = 3 | ps = 0.5) = 0.125\n",
      "P(X = 5 | ps = 0.5) = 0.03125\n",
      "P(data | ps = 0.5) = 0.000000119209\n"
     ]
    }
   ],
   "source": [
    "# Using P(p | 1-p)\n",
    "#Chance of Sonic = p\n",
    "#Chacne of Tails = 1-p\n",
    "# X = {1, 2, 3, 5} \n",
    "#P(X = 1 | ps = 0.5)\n",
    "PX_1 = 0.5 * (1 - 0.5)**0.0\n",
    "print(\"P(X = 1 | ps = 0.5) = {}\".format(PX_1))\n",
    "#P(X = 2 | ps = 0.5)\n",
    "PX_2 = 0.5 * (1 - 0.5)**1.0\n",
    "print(\"P(X = 2 | ps = 0.5) = {}\".format(PX_2))\n",
    "#P(X = 3 | ps = 0.5)\n",
    "PX_3 = 0.5 * (1 - 0.5)**2.0\n",
    "print(\"P(X = 3 | ps = 0.5) = {}\".format(PX_3))\n",
    "#P(X = 5 | ps = 0.5)\n",
    "PX_5 = 0.5 * (1 - 0.5)**4.0\n",
    "print(\"P(X = 5 | ps = 0.5) = {}\".format(PX_5))\n",
    "# PX_#^(Frequency)\n",
    "#P(data | ps = 0.5)\n",
    "PDATA = (PX_1**4) * (PX_2**3) * (PX_3 ** 1) * (PX_5 ** 2) \n",
    "print(\"P(data | ps = 0.5) = {:.12f}\".format(PDATA))"
   ]
  },
  {
   "cell_type": "markdown",
   "metadata": {},
   "source": [
    "Assuming the events are all independent:\n",
    "P(X = 1 | ps = 0.5) = 0.5\n",
    "\n",
    "P(X = 2 | ps = 0.5) = 0.25\n",
    "\n",
    "P(X = 3 | ps = 0.5) = 0.125\n",
    "\n",
    "P(X = 5 | ps = 0.5) = 0.03125\n",
    "\n",
    "The Probability of Amy viewing her data set\n",
    "P(data | ps = 0.5) $\\approx 0.000000119209$"
   ]
  },
  {
   "cell_type": "markdown",
   "metadata": {},
   "source": [
    "**Part C:** Suppose before we observed Amy's data set, we believe that each of the seven possible coin biases occur with equal probability, $P(p_S)$. This is called the _prior distribution_ for the coin bias, $p_S$, because we have not yet taken into account Amy's data set.\n",
    "* Now, estimate the probability of each possible bias, given the data: $P(p_S \\mid \\text{data})$.  This is called the _posterior distribution_ for the coin bias, because it is our assessment of the coin's bias _after_ we have accounted for Amy's data.\n",
    "* Make a line plot of the bias along x-axis versus the posterior probability of that bias along the y-axis, and be sure to label your axes. \n",
    "* Comment on your plot. What appears to be the most probable value for the bias, $p_S$? This is called the _maximum a posteriori_ estimate, because it maximizes the posterior distribution and sounds very, *very* fancy."
   ]
  },
  {
   "cell_type": "code",
   "execution_count": 13,
   "metadata": {},
   "outputs": [
    {
     "data": {
      "text/plain": [
       "Text(0.5, 1.0, 'Result of Bias on Posterior Probability')"
      ]
     },
     "execution_count": 13,
     "metadata": {},
     "output_type": "execute_result"
    },
    {
     "data": {
      "image/png": "[encoded data removed]",
      "text/plain": [
       "<Figure size 864x432 with 1 Axes>"
      ]
     },
     "metadata": {
      "needs_background": "light"
     },
     "output_type": "display_data"
    }
   ],
   "source": [
    "def PsProb(ps):\n",
    "    PX1 = ps*(1-ps)**0\n",
    "    PX2 = ps*(1-ps)**1\n",
    "    PX3 = ps*(1-ps)**2\n",
    "    PX5 = ps*(1-ps)**4\n",
    "    return (PX1**4) * (PX2**3) * (PX3**1) * (PX5**2)\n",
    "\n",
    "def Uniform():\n",
    "    posterior_prob_arr = []\n",
    "    ps_arr = [0.2, 0.3, 0.4, 0.5, 0.6, 0.7, 0.8]\n",
    "    prob_event = (1/len(ps_arr))\n",
    "    for ps in ps_arr:\n",
    "        probability_observe_ps = PsProb(ps)\n",
    "        posterior_prob = (probability_observe_ps * prob_event)/(PsProb(0.2)*prob_event + PsProb(0.3)*prob_event + PsProb(0.4)*prob_event + PsProb(0.5)*prob_event + PsProb(0.6)*prob_event + PsProb(0.7)*prob_event + PsProb(0.8)*prob_event)\n",
    "        posterior_prob_arr.append(posterior_prob)\n",
    "    return ps_arr, posterior_prob_arr\n",
    "\n",
    "plt.figure(figsize=(12,6))\n",
    "x, y = Uniform()\n",
    "plt.plot(x, y)\n",
    "plt.xlabel(\"Bias\", fontsize = 12)\n",
    "plt.ylabel(\"Posterior Probability\", fontsize = 12)\n",
    "plt.title(\"Result of Bias on Posterior Probability\", fontsize = 16)\n"
   ]
  },
  {
   "cell_type": "markdown",
   "metadata": {},
   "source": [
    "The maximum a posteriori, $p_s$ appears to be 0.4. This is because the posterior probability is at its maximum at a ps or bias of 0.4"
   ]
  },
  {
   "cell_type": "markdown",
   "metadata": {},
   "source": [
    "**Part D:** Now suppose the prior probability distribution of the coins is not uniform. Namely, suppose these probabilities follow a ***triangular distribution***, centered at $p_S=0.5$:\n",
    "$$P(p_S = p) = \\begin{cases} mp & p \\leq 0.5 \\\\ m(1-p) & p > 0.5 \\end{cases}$$\n",
    "\n",
    "Determine what value the constant $m$ should have in order to make $P(p_S = p)$ is a valid probability mass function. Remember, $p_S \\in \\{.2, .3, \\ldots , .7, .8\\}$ and is discrete."
   ]
  },
  {
   "cell_type": "markdown",
   "metadata": {},
   "source": [
    "\n",
    "For $P(p_S = p)$ to be a valid PMF, we need:\n",
    "\n",
    "$\\large \\sum_p P(p_S = p) = 1$\n",
    "\n",
    "\n",
    "\n",
    "$\\large m(0.2) + m(0.3) + m(0.4) + m(0.5) + m(1 - 0.6) + m(1 - 0.7) + m(1 - 0.8) = 1$\n",
    "\n",
    "$\\large m[0.2 + 0.3 + 0.4 + 0.5 + (1 - 0.6) + (1 - 0.7) + (1 - 0.8)] = 1$\n",
    "\n",
    "$\\large m(\\frac{2}{10} + \\frac{3}{10} + \\frac{4}{10} + \\frac{5}{10} + \\frac{4}{10} + \\frac{3}{10} + \\frac{2}{10}) = 1$\n",
    "\n",
    "$\\large m(\\frac{23}{10}) = 1$\n",
    "\n",
    "$\\large m = \\frac{10}{23}$\n",
    "\n",
    "m = $\\frac{10}{23}$ in order to make $P(p_S = p)$ a valid PMF.\n",
    "$$P(p_S = p) = \\begin{cases} \\frac{10}{23}p & p \\leq 0.5 \\\\ \\frac{10}{23}(1-p) & p > 0.5 \\end{cases}$$"
   ]
  },
  {
   "cell_type": "markdown",
   "metadata": {},
   "source": [
    "**Part E:** Compare, using words, the triangular prior distribution (this part) and the uniform prior distribution (from Part C).  What does each represent in terms of our _prior_ knowledge of the coin bias?"
   ]
  },
  {
   "cell_type": "markdown",
   "metadata": {},
   "source": [
    "Uniform prior distribution represents the probability of each bias to be equal -> $\\frac{1}{7}$ or 1/(# of biases). The triangular prior distribution represents that our prior knowledge of the probability of a bias is not equal. The probabilty of having $P(p_S \\leq 5)$ is $\\frac{10}{23} \\cdot p_S$ while having $ P(p_S > 5)$ is $\\frac{10}{23} * (1-p_S).$"
   ]
  },
  {
   "cell_type": "markdown",
   "metadata": {},
   "source": [
    "**Part F:** Modify your calculation of the posterior distribution from Part C to use the new triangular prior distribution from Part D. Make a plot of the results that includes both posterior distribution using the uniform prior (from Part C) and the posterior distribution using the triangular prior (from Part D) in the same figure panel. Be sure to label your axes and include a legend."
   ]
  },
  {
   "cell_type": "code",
   "execution_count": 14,
   "metadata": {},
   "outputs": [
    {
     "data": {
      "text/plain": [
       "<matplotlib.legend.Legend at 0x22787a06d08>"
      ]
     },
     "execution_count": 14,
     "metadata": {},
     "output_type": "execute_result"
    },
    {
     "data": {
      "image/png": "[encoded data removed]",
      "text/plain": [
       "<Figure size 864x432 with 1 Axes>"
      ]
     },
     "metadata": {
      "needs_background": "light"
     },
     "output_type": "display_data"
    }
   ],
   "source": [
    "def TriangularPS(ps): \n",
    "    if(ps <= 0.5):\n",
    "        return (10/23) * ps\n",
    "    if(ps > 0.5):\n",
    "        return (10/23)* (1 - ps)\n",
    "    \n",
    "def Triangular():\n",
    "    posterior_prob_arr_tri =[]\n",
    "    ps_arr = [0.2, 0.3, 0.4, 0.5, 0.6, 0.7, 0.8]\n",
    "    for ps in ps_arr: \n",
    "        probability_observe_ps = PsProb(ps)\n",
    "        posterior_prob_tri = (probability_observe_ps * TriangularPS(ps)) / ((PsProb(0.2)*TriangularPS(0.2)) + (PsProb(0.3)*TriangularPS(0.3)) + (PsProb(0.4)*TriangularPS(0.4)) + (PsProb(0.5)*TriangularPS(0.5)) + (PsProb(0.6)*TriangularPS(0.6)) + (PsProb(0.7)*TriangularPS(0.7)) + (PsProb(0.8)*TriangularPS(0.8)))\n",
    "        posterior_prob_arr_tri.append(posterior_prob_tri)\n",
    "    return ps_arr, posterior_prob_arr_tri\n",
    "\n",
    "plt.figure(figsize=(12,6))\n",
    "x_U, y_U = Uniform()\n",
    "x_T, y_T = Triangular()\n",
    "plt.plot(x_U, y_U, label = \"Uniform\")\n",
    "plt.plot(x_T,y_T, label = \"Triangular\")\n",
    "plt.xlabel(\"Bias\", fontsize = 12)\n",
    "plt.ylabel(\"Posterior Probability\", fontsize = 12)\n",
    "plt.title(\"Result of Bias on Posterior Probability\", fontsize = 16)\n",
    "plt.legend(fontsize = 15)\n",
    "\n"
   ]
  },
  {
   "cell_type": "code",
   "execution_count": null,
   "metadata": {},
   "outputs": [],
   "source": []
  }
 ],
 "metadata": {
  "kernelspec": {
   "display_name": "Python 3",
   "language": "python",
   "name": "python3"
  },
  "language_info": {
   "codemirror_mode": {
    "name": "ipython",
    "version": 3
   },
   "file_extension": ".py",
   "mimetype": "text/x-python",
   "name": "python",
   "nbconvert_exporter": "python",
   "pygments_lexer": "ipython3",
   "version": "3.7.4"
  }
 },
 "nbformat": 4,
 "nbformat_minor": 2
}
