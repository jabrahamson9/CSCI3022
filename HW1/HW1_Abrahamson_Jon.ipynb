{
 "cells": [
  {
   "cell_type": "markdown",
   "metadata": {},
   "source": [
    "<a id='top'></a>\n",
    "\n",
    "# Homework 1: Data Cleaning and Exploratory Data Analysis \n",
    "***\n",
    "\n",
    "**Name**: JC Abrahamson\n",
    "\n",
    "***\n",
    "\n",
    "This assignment is due on Canvas by **11:59 PM on Friday January 31**. Your solutions to theoretical questions should be done in Markdown directly below the associated question.  Your solutions to computational questions should include any specified Python code and results as well as written commentary on your conclusions.  Remember that you are encouraged to discuss the problems with your classmates, but **you must write all code and solutions on your own**.\n",
    "\n",
    "**NOTES**: \n",
    "\n",
    "- Any relevant data sets should be available under the **Data** module on Canvas. \n",
    "- If you're not familiar with typesetting math directly into Markdown then by all means, do your work on paper first and then typeset it later.  Remember that there is a [reference guide](https://math.meta.stackexchange.com/questions/5020/mathjax-basic-tutorial-and-quick-reference) linked on Canvas on writing math in Markdown. **All** of your written commentary, justifications and mathematical work should be in Markdown.\n",
    "- Because you can technically evaluate notebook cells is a non-linear order, it's a good idea to do Kernel $\\rightarrow$ Restart & Run All as a check before submitting your solutions.  That way if we need to run your code you will know that it will work as expected. \n",
    "- It is **bad form** to make your reader interpret numerical output from your code.  If a question asks you to compute some value from the data you should show your code output **AND** write a summary of the results in Markdown directly below your code. \n",
    "- This probably goes without saying, but... For any question that asks you to calculate something, you **must show all work and justify your answers to receive credit**. Sparse or nonexistent work will receive sparse or nonexistent credit. \n",
    "\n",
    "---\n",
    "**Shortcuts:**  [Problem 1](#p1) | [Problem 2](#p2) | [Problem 3](#p3) | [Problem 4](#p4) | [Problem 5](#p5) \n",
    "\n",
    "---"
   ]
  },
  {
   "cell_type": "code",
   "execution_count": 126,
   "metadata": {},
   "outputs": [],
   "source": [
    "import pandas as pd\n",
    "import numpy as np\n",
    "import matplotlib.pylab as plt\n",
    "%matplotlib inline"
   ]
  },
  {
   "cell_type": "markdown",
   "metadata": {},
   "source": [
    "[Back to top](#top)\n",
    "\n",
    "<br>\n",
    "\n",
    "<a/ id='p1'></a>\n",
    "\n",
    "### (10 points) Problem 1\n",
    "***\n",
    "\n",
    "<img style=\"float: left; width: 200px; padding: 3mm;\" src=\"https://aquarium.org/wp-content/uploads/2015/08/Seahorse-female.jpg\" alt=\"Drawing\"/>  \n",
    "Poseidon is studying seahorses. Locations in each of the Atlantic, Pacific, Indian, Artic, and Southern Oceans are chosen to catch and release seahorses. After being caught, the seahorses are monitored for 24 hours while being fed organic, free-range plankton. The amount of plankton that each seahorse eats is recorded in an app on Poseidon’s phone, called Hippocampus. He collects 6 seahorses from the Arctic Ocean, 36 seahorses from the Pacific Ocean, 12 seahorses from the Indian Ocean, 6 seahorses from the Southern Ocean, and 42 seahorses from the Atlantic Ocean. \n",
    "\n",
    "Poseidon wants to get a sense for the average amount of plankton eaten by seahorses, so he uses the Hippcampus app to first order the seahorses in terms of when each seahorse was caught (first caught to last caught). Then, he selects every 3rd seahorse to see how much plankton was eaten.\n",
    "\n",
    "$$ \\quad $$\n",
    "    \n",
    "**Part A:** Identify the following: \n",
    "\n",
    "- the population \n",
    "- the sample frame \n",
    "- the sample \n",
    "- the type of sample \n",
    "- the quantity of interest"
   ]
  },
  {
   "cell_type": "markdown",
   "metadata": {},
   "source": [
    "- Population = Seahorses\n",
    "- Sample Frame = Atlantic, Pacific, Indian, and Arctic oceans\n",
    "- Sample = Every third seahorse picked in chronological order of capture\n",
    "- Type of Sample = Systematic sample (every 3rd integer)\n",
    "- Quantity of Interest = 102/3 = 24 Seahorses"
   ]
  },
  {
   "cell_type": "markdown",
   "metadata": {},
   "source": [
    "[Back to top](#top)\n",
    "\n",
    "<br>\n",
    "\n",
    "<a/ id='p2'></a>\n",
    "\n",
    "### (25 points) Problem 2\n",
    "***\n",
    "\n",
    "A method to investigate the sensitivity of the sample mean and sample median to extreme outliers and changes in the dataset is to replace one or more elements in a given dataset by a number $y$ and investigate the effect when $y$ changes. To illustrate this, consider the following dataset:\n",
    " \n",
    "$$  4.3 \\quad 5.2 \\quad 5.0 \\quad 3.8 \\quad 4.1 \\quad 5.5 \\quad 1.9 $$\n",
    "\n",
    "\n"
   ]
  },
  {
   "cell_type": "markdown",
   "metadata": {},
   "source": [
    "**Part A:** Compute the sample mean and sample median. Do not use the canned mean and median python functions. Write your own code to compute these quantities. You may use the python length and sort functions, but that is it."
   ]
  },
  {
   "cell_type": "code",
   "execution_count": 141,
   "metadata": {},
   "outputs": [
    {
     "name": "stdout",
     "output_type": "stream",
     "text": [
      "Sample Mean:  4.257142857142857\n",
      "Sample Median:  4.3\n"
     ]
    }
   ],
   "source": [
    "array = [4.3, 5.2, 5.0, 3.8, 4.1, 5.5, 1.9]\n",
    "sum=0\n",
    "length = len(array)\n",
    "for item in array:\n",
    "    sum = sum + item\n",
    "sample_mean = sum/length\n",
    "array.sort()\n",
    "if length % 2 == 0:\n",
    "    median1 = array[length//2]\n",
    "    median2 = array[length//2-1]\n",
    "    median = (median1 + median2)/2\n",
    "else:\n",
    "    median = array[length//2]\n",
    "sample_median = median\n",
    "\n",
    "print(\"Sample Mean: \", sample_mean)\n",
    "print(\"Sample Median: \", sample_median)"
   ]
  },
  {
   "cell_type": "markdown",
   "metadata": {},
   "source": [
    "**Part B:** Now, recompute the mean and the median using the python numpy functions. Compare your answers to what you computed in Part A. Do your answer match? (Hint: They should!)"
   ]
  },
  {
   "cell_type": "code",
   "execution_count": 143,
   "metadata": {},
   "outputs": [
    {
     "name": "stdout",
     "output_type": "stream",
     "text": [
      "Mean:  4.257142857142857\n",
      "Median:  4.3\n"
     ]
    }
   ],
   "source": [
    "import numpy as np\n",
    "array = [4.3, 5.2, 5.0, 3.8, 4.1, 5.5, 1.9]\n",
    "mean = np.mean(array)\n",
    "median = np.median(array)\n",
    "print(\"Mean: \",mean)\n",
    "print(\"Median: \",median)"
   ]
  },
  {
   "cell_type": "markdown",
   "metadata": {},
   "source": [
    "They match"
   ]
  },
  {
   "cell_type": "markdown",
   "metadata": {},
   "source": [
    "**Part C:** Now consider the following data set. \n",
    "$$  4.3 \\quad 5.2 \\quad 5.0 \\quad 3.8 \\quad 4.1 \\quad 5.5 \\quad 1.9 \\quad y$$\n",
    "\n",
    "Is there a value for $y$ that would make the mean of the data equal to 7? If so, calculate the value of $y$ that makes the mean equal to 7. If not, clearly explain why not.\n",
    "    \n",
    "Is there a value for $y$ that would make the median of the data equal to 7? If so, calculate the values of $y$ that makes the median equal to 7. If not, clearly explain why not."
   ]
  },
  {
   "cell_type": "markdown",
   "metadata": {},
   "source": [
    "Yes, you would not just need to rearrange the formula to isolate y and solve"
   ]
  },
  {
   "cell_type": "code",
   "execution_count": 129,
   "metadata": {},
   "outputs": [
    {
     "name": "stdout",
     "output_type": "stream",
     "text": [
      "26.200000000000003\n"
     ]
    }
   ],
   "source": [
    "y = 0\n",
    "array = [4.3, 5.2, 5.0, 3.8, 4.1, 5.5, 1.9, y]\n",
    "partial_sum = 0\n",
    "for item in array:\n",
    "    if item != array[-1]:\n",
    "        partial_sum = partial_sum + item;\n",
    "y = (7*len(array)) - partial_sum\n",
    "print(y)"
   ]
  },
  {
   "cell_type": "markdown",
   "metadata": {},
   "source": [
    "No because the value of the numbers have no weight on the median and because 7 would be the biggest number in the list it would take 7 other number bigger than 7 to make it the median."
   ]
  },
  {
   "cell_type": "code",
   "execution_count": 130,
   "metadata": {},
   "outputs": [],
   "source": [
    "# Your code here."
   ]
  },
  {
   "cell_type": "markdown",
   "metadata": {},
   "source": [
    "**Part D**: Compute the sample variance and the sample standard deviation for the original dataset given in part A using the formulas given in class. You may not use the built-in python variance, standard deviation, or sum functions. Using the length and square root functions is fine."
   ]
  },
  {
   "cell_type": "code",
   "execution_count": 131,
   "metadata": {},
   "outputs": [
    {
     "name": "stdout",
     "output_type": "stream",
     "text": [
      "Sample Variance: 1.2538775510204085\n",
      "Sample Standard Deviation: 1.1197667395580244\n"
     ]
    }
   ],
   "source": [
    "import math\n",
    "array = [4.3, 5.2, 5.0, 3.8, 4.1, 5.5, 1.9]\n",
    "sum = 0\n",
    "for item in array:\n",
    "    sum = sum + item\n",
    "sample_mean = sum/len(array)\n",
    "numer = 0\n",
    "for i in array:\n",
    "    numer = numer + pow(i - sample_mean, 2)\n",
    "sample_variance = numer / (len(array))\n",
    "sample_sd = math.sqrt(numer / (len(array))) \n",
    "print(\"Sample Variance: \" + str(sample_variance))\n",
    "print(\"Sample Standard Deviation: \" + str(sample_sd))\n",
    "\n"
   ]
  },
  {
   "cell_type": "markdown",
   "metadata": {},
   "source": [
    "**Part E:** Execute the following code. Does it match what you computed in part D? Why or why not? If not, how can you correct the code below?"
   ]
  },
  {
   "cell_type": "code",
   "execution_count": 132,
   "metadata": {},
   "outputs": [
    {
     "name": "stdout",
     "output_type": "stream",
     "text": [
      "The sample variance is:  1.2538775510204085\n",
      "the std dev is:  1.1197667395580244\n"
     ]
    }
   ],
   "source": [
    "dataset = [4.3, 5.2, 5.0, 3.8, 4.1, 5.5, 1.9]\n",
    "print(\"The sample variance is: \", np.var(dataset))\n",
    "print(\"the std dev is: \", np.std(dataset))"
   ]
  },
  {
   "cell_type": "markdown",
   "metadata": {},
   "source": [
    "Yes, my program printed identical numbers to the built in numpy function"
   ]
  },
  {
   "cell_type": "code",
   "execution_count": null,
   "metadata": {},
   "outputs": [],
   "source": []
  },
  {
   "cell_type": "markdown",
   "metadata": {},
   "source": [
    "**Part F**: Again consider the data set from Part C: $$  4.3 \\quad 5.2 \\quad 5.0 \\quad 3.8 \\quad 4.1 \\quad 5.5 \\quad 1.9 \\quad y$$\n",
    "\n",
    "Compute the sample median for the following cases (you may use whatever built-in python functions you'd like): \n",
    "- $y=5$ \n",
    "- $y=50$ \n",
    "- $y=4.36$ \n",
    "- $y \\to \\infty$ \n",
    "- $y \\to -\\infty$"
   ]
  },
  {
   "cell_type": "code",
   "execution_count": 133,
   "metadata": {},
   "outputs": [
    {
     "name": "stdout",
     "output_type": "stream",
     "text": [
      "y = 5 : median =  4.65\n",
      "y = 50 : median =  4.65\n",
      "y = 4.36 : median =  4.33\n",
      "y = inf : median =  4.65\n",
      "y = -inf : median =  4.199999999999999\n"
     ]
    }
   ],
   "source": [
    "import math\n",
    "import numpy as np\n",
    "inf = math.inf\n",
    "y_array = [5, 50, 4.36, inf, -inf]\n",
    "message = [\"y = 5 : median = \", \"y = 50 : median = \", \"y = 4.36 : median = \", \"y = inf : median = \", \"y = -inf : median = \"]\n",
    "index = 0\n",
    "for y in y_array:\n",
    "    array = [4.3, 5.2, 5.0, 3.8, 4.1, 5.5, 1.9, y]\n",
    "    print(message[index], str(np.median(array)))\n",
    "    index = index + 1\n"
   ]
  },
  {
   "cell_type": "markdown",
   "metadata": {},
   "source": [
    "**Part G**: Think about the previous parts, above, and describe in words or mathematical notation the answer to the following question:\n",
    "\n",
    "- By varying $y$, what is the set of all the possible values that the sample mean could take on?\n"
   ]
  },
  {
   "cell_type": "markdown",
   "metadata": {},
   "source": [
    "4.199 $\\leq$ sample_mean $\\leq$ 4.65"
   ]
  },
  {
   "cell_type": "markdown",
   "metadata": {},
   "source": [
    "**Part H**: Describe in words or mathematical notation, what happens to the sample standard deviation when $y$ is varied in the following ways: \n",
    " \n",
    "- $y \\to \\infty$ \n",
    "- $y \\to \\bar{x}$"
   ]
  },
  {
   "cell_type": "markdown",
   "metadata": {},
   "source": [
    "as y $\\Rightarrow$ $\\infty$, std $\\Rightarrow$ $\\infty$\n",
    "as y $\\Rightarrow$ $\\bar{x}$, STD $\\Rightarrow$ 1"
   ]
  },
  {
   "cell_type": "markdown",
   "metadata": {},
   "source": [
    "[Back to top](#top)\n",
    "\n",
    "<a/ id='p3'></a>\n",
    "\n",
    "## (25 pts) Problem 3\n",
    "*** \n",
    "Some claim that the final hours aboard the RMS Titanic were marked by \"class warfare\" in which the people with first-class tickets took all the good spots on the lifeboats; others claim that the final hours were characterized by male chivalry, in which the men valiantly gave up their positions in the boats and succumbed bravely to the depths of the Atlantic. \n",
    "\n",
    "We have the data on survival rates by class and by sex, so let's figure out whether there is evidence for these scenarios. Access the Titanic data in `titanic_data.csv` and store it in a Pandas DataFrame. The data contains information pertaining to class status (**Pclass**), survival (**Survived**), and gender (**Sex**) of passengers, among other things. Be sure to use the `titanic_data.csv` data set, *not* the `clean_titanic_data` file from the in-class notebook."
   ]
  },
  {
   "cell_type": "code",
   "execution_count": 134,
   "metadata": {
    "scrolled": true
   },
   "outputs": [
    {
     "data": {
      "text/html": [
       "<div>\n",
       "<style scoped>\n",
       "    .dataframe tbody tr th:only-of-type {\n",
       "        vertical-align: middle;\n",
       "    }\n",
       "\n",
       "    .dataframe tbody tr th {\n",
       "        vertical-align: top;\n",
       "    }\n",
       "\n",
       "    .dataframe thead th {\n",
       "        text-align: right;\n",
       "    }\n",
       "</style>\n",
       "<table border=\"1\" class=\"dataframe\">\n",
       "  <thead>\n",
       "    <tr style=\"text-align: right;\">\n",
       "      <th></th>\n",
       "      <th>PassengerId</th>\n",
       "      <th>Survived</th>\n",
       "      <th>Pclass</th>\n",
       "      <th>Name</th>\n",
       "      <th>Sex</th>\n",
       "      <th>Age</th>\n",
       "      <th>SibSp</th>\n",
       "      <th>Parch</th>\n",
       "      <th>Ticket</th>\n",
       "      <th>Fare</th>\n",
       "      <th>Cabin</th>\n",
       "      <th>Embarked</th>\n",
       "    </tr>\n",
       "  </thead>\n",
       "  <tbody>\n",
       "    <tr>\n",
       "      <td>0</td>\n",
       "      <td>1</td>\n",
       "      <td>0</td>\n",
       "      <td>3</td>\n",
       "      <td>Braund, Mr. Owen Harris</td>\n",
       "      <td>male</td>\n",
       "      <td>36.0</td>\n",
       "      <td>1</td>\n",
       "      <td>0</td>\n",
       "      <td>A/5 21171</td>\n",
       "      <td>7.2500</td>\n",
       "      <td>NaN</td>\n",
       "      <td>S</td>\n",
       "    </tr>\n",
       "    <tr>\n",
       "      <td>1</td>\n",
       "      <td>2</td>\n",
       "      <td>1</td>\n",
       "      <td>1</td>\n",
       "      <td>Cumings, Mrs. John Bradley (Florence Briggs Th...</td>\n",
       "      <td>female</td>\n",
       "      <td>18.0</td>\n",
       "      <td>1</td>\n",
       "      <td>0</td>\n",
       "      <td>PC 17599</td>\n",
       "      <td>71.2833</td>\n",
       "      <td>C85</td>\n",
       "      <td>C</td>\n",
       "    </tr>\n",
       "    <tr>\n",
       "      <td>2</td>\n",
       "      <td>3</td>\n",
       "      <td>1</td>\n",
       "      <td>3</td>\n",
       "      <td>Heikkinen, Miss. Laina</td>\n",
       "      <td>female</td>\n",
       "      <td>14.0</td>\n",
       "      <td>0</td>\n",
       "      <td>0</td>\n",
       "      <td>STON/O2. 3101282</td>\n",
       "      <td>7.9250</td>\n",
       "      <td>NaN</td>\n",
       "      <td>S</td>\n",
       "    </tr>\n",
       "    <tr>\n",
       "      <td>3</td>\n",
       "      <td>4</td>\n",
       "      <td>1</td>\n",
       "      <td>1</td>\n",
       "      <td>Futrelle, Mrs. Jacques Heath (Lily May Peel)</td>\n",
       "      <td>female</td>\n",
       "      <td>27.0</td>\n",
       "      <td>1</td>\n",
       "      <td>0</td>\n",
       "      <td>113803</td>\n",
       "      <td>53.1000</td>\n",
       "      <td>C123</td>\n",
       "      <td>S</td>\n",
       "    </tr>\n",
       "    <tr>\n",
       "      <td>4</td>\n",
       "      <td>5</td>\n",
       "      <td>0</td>\n",
       "      <td>3</td>\n",
       "      <td>Allen, Mr. William Henry</td>\n",
       "      <td>male</td>\n",
       "      <td>63.0</td>\n",
       "      <td>0</td>\n",
       "      <td>0</td>\n",
       "      <td>373450</td>\n",
       "      <td>8.0500</td>\n",
       "      <td>NaN</td>\n",
       "      <td>S</td>\n",
       "    </tr>\n",
       "  </tbody>\n",
       "</table>\n",
       "</div>"
      ],
      "text/plain": [
       "   PassengerId  Survived  Pclass  \\\n",
       "0            1         0       3   \n",
       "1            2         1       1   \n",
       "2            3         1       3   \n",
       "3            4         1       1   \n",
       "4            5         0       3   \n",
       "\n",
       "                                                Name     Sex   Age  SibSp  \\\n",
       "0                            Braund, Mr. Owen Harris    male  36.0      1   \n",
       "1  Cumings, Mrs. John Bradley (Florence Briggs Th...  female  18.0      1   \n",
       "2                             Heikkinen, Miss. Laina  female  14.0      0   \n",
       "3       Futrelle, Mrs. Jacques Heath (Lily May Peel)  female  27.0      1   \n",
       "4                           Allen, Mr. William Henry    male  63.0      0   \n",
       "\n",
       "   Parch            Ticket     Fare Cabin Embarked  \n",
       "0      0         A/5 21171   7.2500   NaN        S  \n",
       "1      0          PC 17599  71.2833   C85        C  \n",
       "2      0  STON/O2. 3101282   7.9250   NaN        S  \n",
       "3      0            113803  53.1000  C123        S  \n",
       "4      0            373450   8.0500   NaN        S  "
      ]
     },
     "execution_count": 134,
     "metadata": {},
     "output_type": "execute_result"
    }
   ],
   "source": [
    "import numpy as np\n",
    "import pandas as pd\n",
    "import matplotlib.pyplot as plt\n",
    "file_path = r\"C:\\Users\\jcabr\\OneDrive\\Documents\\Jupyter\\titanic_data.csv\"\n",
    "df = pd.read_csv(file_path)\n",
    "df.head()"
   ]
  },
  {
   "cell_type": "markdown",
   "metadata": {},
   "source": [
    "**Part A**: Consider the two claims: class warfare, and male chivalry. Suppose that class warfare occurred in the final hours aboard the Titanic.  What patterns might you expect to see in the data?  Suppose that male chivalry was widespread during the final hours instead. What patterns might you then expect to see in the data?  Explain both of these hypothesized patterns in words. Are these two hypotheses mutually exclusive or not?"
   ]
  },
  {
   "cell_type": "markdown",
   "metadata": {},
   "source": [
    "Class Warfare: we would expect to see a higher rate of survival in people of higher class/income \n",
    "Male Chivalry: we would expect to see a higher rate of survival in women as opposed to men"
   ]
  },
  {
   "cell_type": "markdown",
   "metadata": {},
   "source": [
    "**Part B**: Use Pandas methods to create a clean data set by removing any rows from the DataFrame that are missing values corresponding to **Survived**, **Pclass**, **Age**, or **Sex**. Store the clean data in a DataFrame called dfTitanic. Be sure to show any exploratory work determining if/where there are rows with missing values."
   ]
  },
  {
   "cell_type": "code",
   "execution_count": 135,
   "metadata": {},
   "outputs": [
    {
     "data": {
      "text/html": [
       "<div>\n",
       "<style scoped>\n",
       "    .dataframe tbody tr th:only-of-type {\n",
       "        vertical-align: middle;\n",
       "    }\n",
       "\n",
       "    .dataframe tbody tr th {\n",
       "        vertical-align: top;\n",
       "    }\n",
       "\n",
       "    .dataframe thead th {\n",
       "        text-align: right;\n",
       "    }\n",
       "</style>\n",
       "<table border=\"1\" class=\"dataframe\">\n",
       "  <thead>\n",
       "    <tr style=\"text-align: right;\">\n",
       "      <th></th>\n",
       "      <th>PassengerId</th>\n",
       "      <th>Survived</th>\n",
       "      <th>Pclass</th>\n",
       "      <th>Name</th>\n",
       "      <th>Sex</th>\n",
       "      <th>Age</th>\n",
       "      <th>SibSp</th>\n",
       "      <th>Parch</th>\n",
       "      <th>Ticket</th>\n",
       "      <th>Fare</th>\n",
       "      <th>Cabin</th>\n",
       "      <th>Embarked</th>\n",
       "    </tr>\n",
       "  </thead>\n",
       "  <tbody>\n",
       "    <tr>\n",
       "      <td>0</td>\n",
       "      <td>1</td>\n",
       "      <td>0</td>\n",
       "      <td>3</td>\n",
       "      <td>Braund, Mr. Owen Harris</td>\n",
       "      <td>male</td>\n",
       "      <td>36.0</td>\n",
       "      <td>1</td>\n",
       "      <td>0</td>\n",
       "      <td>A/5 21171</td>\n",
       "      <td>7.2500</td>\n",
       "      <td>NaN</td>\n",
       "      <td>S</td>\n",
       "    </tr>\n",
       "    <tr>\n",
       "      <td>1</td>\n",
       "      <td>2</td>\n",
       "      <td>1</td>\n",
       "      <td>1</td>\n",
       "      <td>Cumings, Mrs. John Bradley (Florence Briggs Th...</td>\n",
       "      <td>female</td>\n",
       "      <td>18.0</td>\n",
       "      <td>1</td>\n",
       "      <td>0</td>\n",
       "      <td>PC 17599</td>\n",
       "      <td>71.2833</td>\n",
       "      <td>C85</td>\n",
       "      <td>C</td>\n",
       "    </tr>\n",
       "    <tr>\n",
       "      <td>2</td>\n",
       "      <td>3</td>\n",
       "      <td>1</td>\n",
       "      <td>3</td>\n",
       "      <td>Heikkinen, Miss. Laina</td>\n",
       "      <td>female</td>\n",
       "      <td>14.0</td>\n",
       "      <td>0</td>\n",
       "      <td>0</td>\n",
       "      <td>STON/O2. 3101282</td>\n",
       "      <td>7.9250</td>\n",
       "      <td>NaN</td>\n",
       "      <td>S</td>\n",
       "    </tr>\n",
       "    <tr>\n",
       "      <td>3</td>\n",
       "      <td>4</td>\n",
       "      <td>1</td>\n",
       "      <td>1</td>\n",
       "      <td>Futrelle, Mrs. Jacques Heath (Lily May Peel)</td>\n",
       "      <td>female</td>\n",
       "      <td>27.0</td>\n",
       "      <td>1</td>\n",
       "      <td>0</td>\n",
       "      <td>113803</td>\n",
       "      <td>53.1000</td>\n",
       "      <td>C123</td>\n",
       "      <td>S</td>\n",
       "    </tr>\n",
       "    <tr>\n",
       "      <td>4</td>\n",
       "      <td>5</td>\n",
       "      <td>0</td>\n",
       "      <td>3</td>\n",
       "      <td>Allen, Mr. William Henry</td>\n",
       "      <td>male</td>\n",
       "      <td>63.0</td>\n",
       "      <td>0</td>\n",
       "      <td>0</td>\n",
       "      <td>373450</td>\n",
       "      <td>8.0500</td>\n",
       "      <td>NaN</td>\n",
       "      <td>S</td>\n",
       "    </tr>\n",
       "  </tbody>\n",
       "</table>\n",
       "</div>"
      ],
      "text/plain": [
       "   PassengerId  Survived  Pclass  \\\n",
       "0            1         0       3   \n",
       "1            2         1       1   \n",
       "2            3         1       3   \n",
       "3            4         1       1   \n",
       "4            5         0       3   \n",
       "\n",
       "                                                Name     Sex   Age  SibSp  \\\n",
       "0                            Braund, Mr. Owen Harris    male  36.0      1   \n",
       "1  Cumings, Mrs. John Bradley (Florence Briggs Th...  female  18.0      1   \n",
       "2                             Heikkinen, Miss. Laina  female  14.0      0   \n",
       "3       Futrelle, Mrs. Jacques Heath (Lily May Peel)  female  27.0      1   \n",
       "4                           Allen, Mr. William Henry    male  63.0      0   \n",
       "\n",
       "   Parch            Ticket     Fare Cabin Embarked  \n",
       "0      0         A/5 21171   7.2500   NaN        S  \n",
       "1      0          PC 17599  71.2833   C85        C  \n",
       "2      0  STON/O2. 3101282   7.9250   NaN        S  \n",
       "3      0            113803  53.1000  C123        S  \n",
       "4      0            373450   8.0500   NaN        S  "
      ]
     },
     "execution_count": 135,
     "metadata": {},
     "output_type": "execute_result"
    }
   ],
   "source": [
    "col = [\"Survived\", \"Pclass\", \"Age\", \"Sex\"]\n",
    "for column in col:\n",
    "    df_1 = df[pd.notnull(df[column])]\n",
    "df_1.head()"
   ]
  },
  {
   "cell_type": "markdown",
   "metadata": {},
   "source": [
    "**Part C**: Compute the fraction of survivors according to class and gender. There are 3 passenger classes and 2 sexes in the data set, so you should report all 6 possible combinations.  Then, answer 3 questions:\n",
    "* **(i)** Within each passenger class, were men or women more/less/equally likely to survive?\n",
    "* **(ii)**  Looking at only the male or only the female passengers, how is passenger class related to the category's survival rate?\n",
    "* **(iii)**  Did men in first class or women in third class have a higher survival rate? "
   ]
  },
  {
   "cell_type": "code",
   "execution_count": 136,
   "metadata": {},
   "outputs": [
    {
     "name": "stdout",
     "output_type": "stream",
     "text": [
      "Titanic Survivors\n",
      "\n",
      "\n",
      "Pclass 1 men = 46\n",
      "Pclass 1 females = 91\n",
      "Pclass 2 men = 19\n",
      "Pclass 2 females = 71\n",
      "Pclass 3 men = 91\n",
      "Pclass 3 females = 91\n",
      "\n",
      "Pclass 1 Survival: Men= 0.34 Female= 0.66\n",
      "Pclass 2 Survival: Men= 0.21 Female= 0.79\n",
      "Pclass 3 Survival: Men= 0.5 Female= 0.5\n",
      "\n",
      "Men in Pclass 1 Survival: 0.29\n",
      "Men in Pclass 2 Survival: 0.12\n",
      "Men in Pclass 3 Survival: 0.58\n",
      "\n",
      "Men in Pclass 1 Survival: 0.13\n",
      "Women in Pclass 3 Survival: 0.26\n"
     ]
    }
   ],
   "source": [
    "survived = df.loc[df['Survived'] == 1]\n",
    "total = len(survived.index)\n",
    "df_1 = survived.loc[survived['Pclass'] == 1]\n",
    "df_1sex = df_1.loc[df_1['Sex'] == \"male\"]\n",
    "c1men = len(df_1sex.index)\n",
    "df_1sex = df_1.loc[df_1['Sex'] == \"female\"]\n",
    "c1female = len(df_1sex.index)\n",
    "df_2 = survived.loc[survived['Pclass'] == 2]\n",
    "df_2sex = df_2.loc[df_2['Sex'] == \"male\"]\n",
    "c2men = len(df_2sex.index)\n",
    "df_2sex = df_2.loc[df_2['Sex'] == \"female\"]\n",
    "c2female = len(df_2sex.index)\n",
    "df_3 = survived.loc[survived['Pclass'] == 3]\n",
    "df_3sex = df_3.loc[df_3['Sex'] == \"male\"]\n",
    "c3men = len(df_1sex.index)\n",
    "df_3sex = df_3.loc[df_3['Sex'] == \"female\"]\n",
    "c3female = len(df_1sex.index)\n",
    "\n",
    "print(\"Titanic Survivors\\n\\n\")\n",
    "\n",
    "print(\"Pclass 1 men = \" + str(c1men) )\n",
    "print(\"Pclass 1 females = \" + str(c1female) )\n",
    "print(\"Pclass 2 men = \" + str(c2men) )\n",
    "print(\"Pclass 2 females = \" + str(c2female) )\n",
    "print(\"Pclass 3 men = \" + str(c3men) )\n",
    "print(\"Pclass 3 females = \" + str(c3female) )\n",
    "\n",
    "print(\"\\nPclass 1 Survival: Men= \"+str(round(c1men/(c1men+c1female),2))+\" Female= \"+str(round(c1female/(c1men+c1female),2)))\n",
    "print(\"Pclass 2 Survival: Men= \"+str(round(c2men/(c2men+c2female),2))+\" Female= \"+str(round(c2female/(c2men+c2female),2)))\n",
    "print(\"Pclass 3 Survival: Men= \"+str(round(c3men/(c3men+c3female),2))+\" Female= \"+str(round(c3female/(c3men+c3female),2)))\n",
    "\n",
    "print(\"\\nMen in Pclass 1 Survival: \"+str(round(c1men/(c1men+c2men+c3men),2)))\n",
    "print(\"Men in Pclass 2 Survival: \"+str(round(c2men/(c1men+c2men+c3men),2)))\n",
    "print(\"Men in Pclass 3 Survival: \"+str(round(c3men/(c1men+c2men+c3men),2)))\n",
    "\n",
    "print(\"\\nMen in Pclass 1 Survival: \"+str(round(c1men/total,2)))\n",
    "print(\"Women in Pclass 3 Survival: \"+str(round(c3female/total,2)))\n"
   ]
  },
  {
   "cell_type": "markdown",
   "metadata": {},
   "source": [
    "* **(i)** In class 1 and 2 women were more likely to survive, however in class 3 men and women were equally as likely to survive\n",
    "* **(ii)** Looking at just men, you were the most likely to survive if you were part of the 3rd class, then the 1st and last the 2nd class\n",
    "* **(iii)** Women in 3rd class had a higher survival rate than men in 1st class"
   ]
  },
  {
   "cell_type": "markdown",
   "metadata": {},
   "source": [
    "**Part D**: Plot a histogram of all of the passenger ages, using the bin edges $[0,5,10,\\ldots,70,75,80]$ defined by `my_bins` below. How would you characterize the distribution of **AGE**? (By _characterize_ we mean that you should indicate whether the data are unimodal, bimodal, multimodal, symmetric, negatively skewed, positively skewed, etc.)  Be sure to label your axes and use your figure to justify your conclusions."
   ]
  },
  {
   "cell_type": "code",
   "execution_count": 137,
   "metadata": {},
   "outputs": [],
   "source": [
    "my_bins = range(0,85,5)"
   ]
  },
  {
   "cell_type": "code",
   "execution_count": 138,
   "metadata": {},
   "outputs": [
    {
     "data": {
      "image/png": "[encoded data removed]",
      "text/plain": [
       "<Figure size 432x288 with 1 Axes>"
      ]
     },
     "metadata": {
      "needs_background": "light"
     },
     "output_type": "display_data"
    }
   ],
   "source": [
    "df1 = df['Age']\n",
    "plt.hist(df1, bins=my_bins, color =\"coral\")\n",
    "plt.title('Distibution By Age', fontsize=16)\n",
    "plt.xlabel('Value', fontsize=14)\n",
    "plt.ylabel('Volume', fontsize=14)\n",
    "plt.show()"
   ]
  },
  {
   "cell_type": "markdown",
   "metadata": {},
   "source": [
    "The distribution of Age is skewed negatively toward a younger population"
   ]
  },
  {
   "cell_type": "markdown",
   "metadata": {},
   "source": [
    "**Part E**: One might wonder how a passenger's age is related to the likelihood that they would survive the Titanic disaster. To answer this question graphically, plot two density histograms on the same set of axes, showing the distribution of the ages of passengers who survived, and the distribution of the ages of passengers who did not. \n",
    "* Use the bin edges $[0,5,10,\\ldots,70,75,80]$ for both histograms.\n",
    "* This problem is about a *ship* sinking in the *ocean*, so use **coral** and **seagreen** as the facecolors for your histogram boxes.\n",
    "* Plot both histograms on a single set of axes (there should be only one panel in the figure you create), but use Matplotlib/Pandas plotting functionality to make the faces of the histogram boxes somewhat transparent, so both histograms are visible.\n",
    "* Include a legend and label your axes.\n",
    "* Comment on the results. Does your figure suggest that some age ranges are more or less likely to have survived the disaster than other ages? Fully explain your reasoning and use your figure to justify your conclusions.\n",
    "* If you noticed some relationship between age and likelihood of survival, what is one possible explanation?"
   ]
  },
  {
   "cell_type": "code",
   "execution_count": 139,
   "metadata": {},
   "outputs": [
    {
     "data": {
      "image/png": "[encoded data removed]",
      "text/plain": [
       "<Figure size 432x288 with 1 Axes>"
      ]
     },
     "metadata": {
      "needs_background": "light"
     },
     "output_type": "display_data"
    }
   ],
   "source": [
    "from matplotlib.ticker import PercentFormatter\n",
    "df_surv = df.loc[df['Survived'] == 1]\n",
    "df1 = df['Age']\n",
    "df2 = df_surv['Age']\n",
    "# plt.hist([df1,df2], bins=my_bins,stacked=True, color = [\"coral\", \"seagreen\"])\n",
    "plt.hist(df2, bins=my_bins, alpha = 0.5, density = 1, stacked=True, color = \"seagreen\")\n",
    "plt.hist(df1, bins=my_bins, alpha = 0.7, density = 1, stacked=True, color = \"coral\")\n",
    "plt.title('Distibution By Age', fontsize=16)\n",
    "plt.xlabel('Value', fontsize=14)\n",
    "plt.ylabel('Volume', fontsize=14)\n",
    "plt.legend(['All', 'Survivors'])\n",
    "\n",
    "plt.show()\n"
   ]
  },
  {
   "cell_type": "markdown",
   "metadata": {},
   "source": [
    "The histogram shows a clear relationship between the survival rate of young adult passengers and \n",
    "elderly passengers. From ages 15 - 50, people are a lot more likely to die than people over 65. This is probably because the elderly and children got priority."
   ]
  },
  {
   "cell_type": "markdown",
   "metadata": {},
   "source": [
    "**Part F:** In Part E, we plotted two *density* histograms, showing the distributions of ages of passengers that survived or did not survive the Titanic disaster. Why would it be misleading for us to have plotted these as *frequency* histograms instead?"
   ]
  },
  {
   "cell_type": "markdown",
   "metadata": {},
   "source": [
    "It would have been misleading because we would have seen that many young adults did in fact survive but it is the rate of survival that we are truly looking for. the frequency may have led us to believe that the labor class survived more frequently than the others."
   ]
  },
  {
   "cell_type": "markdown",
   "metadata": {},
   "source": [
    "**Part G**: Do the data suggest class warfare, male chivalry, or some combination of both characteristics in the final hours aboard the Titanic?  Justify your conclusion based on the computations done above, or do any other analysis that you like, but be sure to clearly justify your conclusion."
   ]
  },
  {
   "cell_type": "markdown",
   "metadata": {},
   "source": [
    "There seemed to be a combination of the two. There was definetly a good argument for male chilvalry because in every class women survived the same or more frequently than the men. The class warefare was interesting. I expected to see a higher rate of survival for the upper class yet they were blown away by the survival rate of the 3rd class."
   ]
  },
  {
   "cell_type": "markdown",
   "metadata": {},
   "source": [
    "[Back to top](#top)\n",
    "<a/ id='p4'></a>\n",
    "\n",
    "## (25 pts) Problem 4 (Snowfall in Boulder)\n",
    "***\n",
    "\n",
    "The NOAA Earth System Research Laboratory (ESRL) Physical Sciences Division (PSD) conducts scientific research to observe, understand, model, predict, and forecast weather, water, and climate extremes and their impacts. They have a website with publicly available data. One such data set contains monthly snowfall for Boulder dating back to 1889 (https://www.esrl.noaa.gov/psd/boulder/bouldersnow.html). Load ‘Boulder_Snowfall.csv’ from the Canvas page. \n",
    "\n",
    "**Part A:** To start, we need to “clean” our data set. When the amount of snow was nonzero, but too small to be recorded, this data set recorded ‘T’. Replace those instances with zeros. AFTER, you've done that, remove any rows (which correspond to years) with missing data. As a check, if you've cleaned the file correctly, there should be 121 rows remaining. "
   ]
  },
  {
   "cell_type": "code",
   "execution_count": 140,
   "metadata": {},
   "outputs": [
    {
     "name": "stderr",
     "output_type": "stream",
     "text": [
      "C:\\Users\\jcabr\\Anaconda\\lib\\site-packages\\pandas\\core\\ops\\__init__.py:1115: FutureWarning: elementwise comparison failed; returning scalar instead, but in the future will perform elementwise comparison\n",
      "  result = method(y)\n"
     ]
    },
    {
     "data": {
      "text/html": [
       "<div>\n",
       "<style scoped>\n",
       "    .dataframe tbody tr th:only-of-type {\n",
       "        vertical-align: middle;\n",
       "    }\n",
       "\n",
       "    .dataframe tbody tr th {\n",
       "        vertical-align: top;\n",
       "    }\n",
       "\n",
       "    .dataframe thead th {\n",
       "        text-align: right;\n",
       "    }\n",
       "</style>\n",
       "<table border=\"1\" class=\"dataframe\">\n",
       "  <thead>\n",
       "    <tr style=\"text-align: right;\">\n",
       "      <th></th>\n",
       "      <th>Year</th>\n",
       "      <th>Jan</th>\n",
       "      <th>Feb</th>\n",
       "      <th>Mar</th>\n",
       "      <th>Apr</th>\n",
       "      <th>May</th>\n",
       "      <th>Jun</th>\n",
       "      <th>Jul</th>\n",
       "      <th>Aug</th>\n",
       "      <th>Sep</th>\n",
       "      <th>Oct</th>\n",
       "      <th>Nov</th>\n",
       "      <th>Dec</th>\n",
       "      <th>Total Sep-Jun</th>\n",
       "      <th>Total Jan-Dec</th>\n",
       "    </tr>\n",
       "  </thead>\n",
       "  <tbody>\n",
       "    <tr>\n",
       "      <td>6</td>\n",
       "      <td>1898</td>\n",
       "      <td>7</td>\n",
       "      <td>4.2</td>\n",
       "      <td>7.5</td>\n",
       "      <td>8.2</td>\n",
       "      <td>13</td>\n",
       "      <td>0</td>\n",
       "      <td>0</td>\n",
       "      <td>0</td>\n",
       "      <td>1</td>\n",
       "      <td>5</td>\n",
       "      <td>23.5</td>\n",
       "      <td>18</td>\n",
       "      <td>63.1</td>\n",
       "      <td>87.4</td>\n",
       "    </tr>\n",
       "    <tr>\n",
       "      <td>7</td>\n",
       "      <td>1899</td>\n",
       "      <td>13</td>\n",
       "      <td>15.2</td>\n",
       "      <td>31</td>\n",
       "      <td>8</td>\n",
       "      <td>0</td>\n",
       "      <td>0</td>\n",
       "      <td>0</td>\n",
       "      <td>0</td>\n",
       "      <td>0</td>\n",
       "      <td>2</td>\n",
       "      <td>0</td>\n",
       "      <td>12.8</td>\n",
       "      <td>114.7</td>\n",
       "      <td>82</td>\n",
       "    </tr>\n",
       "    <tr>\n",
       "      <td>8</td>\n",
       "      <td>1900</td>\n",
       "      <td>4.5</td>\n",
       "      <td>14.8</td>\n",
       "      <td>6.8</td>\n",
       "      <td>20</td>\n",
       "      <td>0</td>\n",
       "      <td>0</td>\n",
       "      <td>0</td>\n",
       "      <td>0</td>\n",
       "      <td>0</td>\n",
       "      <td>0</td>\n",
       "      <td>3.1</td>\n",
       "      <td>9.2</td>\n",
       "      <td>60.9</td>\n",
       "      <td>58.4</td>\n",
       "    </tr>\n",
       "    <tr>\n",
       "      <td>9</td>\n",
       "      <td>1901</td>\n",
       "      <td>7.5</td>\n",
       "      <td>6.2</td>\n",
       "      <td>18.5</td>\n",
       "      <td>26</td>\n",
       "      <td>0</td>\n",
       "      <td>0</td>\n",
       "      <td>0</td>\n",
       "      <td>0</td>\n",
       "      <td>0</td>\n",
       "      <td>4</td>\n",
       "      <td>0</td>\n",
       "      <td>15</td>\n",
       "      <td>70.5</td>\n",
       "      <td>77.2</td>\n",
       "    </tr>\n",
       "    <tr>\n",
       "      <td>10</td>\n",
       "      <td>1902</td>\n",
       "      <td>7.2</td>\n",
       "      <td>6.5</td>\n",
       "      <td>9.5</td>\n",
       "      <td>3</td>\n",
       "      <td>0</td>\n",
       "      <td>0</td>\n",
       "      <td>0</td>\n",
       "      <td>0</td>\n",
       "      <td>0</td>\n",
       "      <td>0.5</td>\n",
       "      <td>8</td>\n",
       "      <td>17</td>\n",
       "      <td>45.2</td>\n",
       "      <td>51.7</td>\n",
       "    </tr>\n",
       "  </tbody>\n",
       "</table>\n",
       "</div>"
      ],
      "text/plain": [
       "    Year  Jan   Feb   Mar  Apr May Jun Jul Aug Sep  Oct   Nov   Dec  \\\n",
       "6   1898    7   4.2   7.5  8.2  13   0   0   0   1    5  23.5    18   \n",
       "7   1899   13  15.2    31    8   0   0   0   0   0    2     0  12.8   \n",
       "8   1900  4.5  14.8   6.8   20   0   0   0   0   0    0   3.1   9.2   \n",
       "9   1901  7.5   6.2  18.5   26   0   0   0   0   0    4     0    15   \n",
       "10  1902  7.2   6.5   9.5    3   0   0   0   0   0  0.5     8    17   \n",
       "\n",
       "   Total Sep-Jun Total Jan-Dec  \n",
       "6           63.1          87.4  \n",
       "7          114.7            82  \n",
       "8           60.9          58.4  \n",
       "9           70.5          77.2  \n",
       "10          45.2          51.7  "
      ]
     },
     "execution_count": 140,
     "metadata": {},
     "output_type": "execute_result"
    }
   ],
   "source": [
    "import numpy as np\n",
    "import pandas as pd\n",
    "import matplotlib.pyplot as plt\n",
    "file_path = r\"C:\\Users\\jcabr\\OneDrive\\Documents\\School\\Data Science\\HW1\\Boulder_Snowfall.csv\"\n",
    "df = pd.read_csv(file_path)\n",
    "df = df.replace(to_replace ='T',\n",
    "                 value =0)\n",
    "value = df.iloc[0][\"Jan\"]\n",
    "df = df[df != value]\n",
    "df = df.dropna()\n",
    "df.head()"
   ]
  },
  {
   "cell_type": "markdown",
   "metadata": {},
   "source": [
    "**Part B:** Plot the last column of data, “Total Jan-Dec”, from the cleaned data set. Label your axes. Do you observe any trends? Discuss.\n",
    "\n",
    "[Note: Make sure that your x-axis tick labels are in years and are readable. You may have to play around with formatting the ticklabels. plt.MaxNLocator might be helpful depending on how you plotted your data.] "
   ]
  },
  {
   "cell_type": "code",
   "execution_count": 123,
   "metadata": {},
   "outputs": [
    {
     "data": {
      "text/plain": [
       "Text(0.5, 1.0, 'Yearly Snowfall')"
      ]
     },
     "execution_count": 123,
     "metadata": {},
     "output_type": "execute_result"
    },
    {
     "data": {
      "image/png": "[encoded data removed]",
      "text/plain": [
       "<Figure size 432x288 with 1 Axes>"
      ]
     },
     "metadata": {
      "needs_background": "light"
     },
     "output_type": "display_data"
    }
   ],
   "source": [
    "\n",
    "df_year = df[[\"Year\", \"Total Jan-Dec\"]]\n",
    "tot_lst = df[\"Total Jan-Dec\"].astype(float)\n",
    "year_lst = df[\"Year\"].astype(int)\n",
    "\n",
    "\n",
    "df_feb = pd.DataFrame(list(zip(year_lst, tot_lst)), \n",
    "               columns =['Year', 'Total Jan-Dec'])\n",
    "\n",
    "df_year.head()\n",
    "ax = df_feb.plot(kind = 'line', x= 'Year', y = 'Total Jan-Dec')\n",
    "ax.set_xlabel(\"Year\")\n",
    "ax.set_ylabel(\"Yearly Snowfall (in)\")\n",
    "ax.set_title(\"Yearly Snowfall\")"
   ]
  },
  {
   "cell_type": "markdown",
   "metadata": {},
   "source": [
    "**Part C:** Using your cleaned data set, create a histogram of the yearly snowfall. Bin your data with a bin-width of 5 inches, starting at 35 inches. Make the edgecolor of your graph white. What is the most common amount of snow to get in a year? How does this compare with how much snow we got in 2019? "
   ]
  },
  {
   "cell_type": "code",
   "execution_count": 59,
   "metadata": {},
   "outputs": [
    {
     "data": {
      "image/png": "[encoded data removed]",
      "text/plain": [
       "<Figure size 432x288 with 1 Axes>"
      ]
     },
     "metadata": {
      "needs_background": "light"
     },
     "output_type": "display_data"
    }
   ],
   "source": [
    "df_t = df[[\"Total Jan-Dec\"]]\n",
    "df_t = df_t.astype(float)\n",
    "axarr = df_t.hist(bins = range(35, 170, 5))\n",
    "for ax in axarr.flatten():\n",
    "    ax.set_xlabel(\"Yearly Snowfall (in)\")\n",
    "    ax.set_ylabel(\"Frequency\")\n",
    "    ax.set_title(\"Total Yearly Snowfall\")"
   ]
  },
  {
   "cell_type": "markdown",
   "metadata": {},
   "source": []
  },
  {
   "cell_type": "markdown",
   "metadata": {},
   "source": [
    "**Part D:** Generate a series of 12 box plots to represent each decade starting in 1900, using your cleaned data set. Orient the box plots so that the decades (‘1900-1909’, ‘1910-1919’, … , ‘2010-2019’) appear along the x-axis, and the y-axis shows the amount of snowfall. Have all 12 boxplots as part of one graph. Include appropriate labels to your axes and a title, so that if someone not in our class were to look at your plots, they would understand what they were looking at. \n",
    "\n",
    "[Note: Data from the year 2004 was dropped during the initial cleaning of the data set (or should have been). Keep this in mind when plotting data from the 2000-2009 decade.]"
   ]
  },
  {
   "cell_type": "code",
   "execution_count": 64,
   "metadata": {},
   "outputs": [
    {
     "data": {
      "text/plain": [
       "Text(0.5, 1.0, 'Snowfall Distribution By Decade')"
      ]
     },
     "execution_count": 64,
     "metadata": {},
     "output_type": "execute_result"
    },
    {
     "data": {
      "image/png": "[encoded data removed]",
      "text/plain": [
       "<Figure size 432x288 with 1 Axes>"
      ]
     },
     "metadata": {
      "needs_background": "light"
     },
     "output_type": "display_data"
    }
   ],
   "source": [
    "df_year = df[[\"Year\", \"Total Jan-Dec\"]]\n",
    "df_year.head()\n",
    "\n",
    "YearList = df_year['Year'].tolist()\n",
    "TotalList = df_year[\"Total Jan-Dec\"].tolist()\n",
    "\n",
    "def divide_chunks_help(l, n): \n",
    "    for i in range(0, len(l), n):  \n",
    "        yield l[i:i + n] \n",
    "    \n",
    "def divide_chunks(l):\n",
    "    l = l[2:-9]\n",
    "    array = list(divide_chunks_help(l, 10))\n",
    "    array[-1].pop()\n",
    "    return array\n",
    "\n",
    "years = divide_chunks(YearList)\n",
    "totals = divide_chunks(TotalList)\n",
    "tot = []\n",
    "for item in totals:\n",
    "    sums=0\n",
    "    for i in range(0, len(item)):\n",
    "        item[i] = float(item[i])\n",
    "        sums = sums+item[i]\n",
    "    tot.append(sums)\n",
    "totals[10].insert(int(),4)\n",
    "data = pd.DataFrame(\n",
    "    {\n",
    "        \"1900s\" : totals[0],\n",
    "        \"1910s\" : totals[1],\n",
    "        \"1920s\" : totals[2],\n",
    "        \"1930s\" : totals[3],\n",
    "        \"1940s\" : totals[4],\n",
    "        \"1950s\" : totals[5],\n",
    "        \"1960s\" : totals[6],\n",
    "        \"1970s\" : totals[7],\n",
    "        \"1980s\" : totals[8],\n",
    "        \"1990s\" : totals[9],\n",
    "        \"2000s\" : totals[10]\n",
    "    }\n",
    ")\n",
    "\n",
    "ax = data.boxplot()\n",
    "\n",
    "\n",
    "ax.set_xlabel(\"Decade\")\n",
    "ax.set_ylabel(\"Yearly Snowfall\")\n",
    "ax.set_title(\"Snowfall Distribution By Decade\")"
   ]
  },
  {
   "cell_type": "markdown",
   "metadata": {},
   "source": []
  },
  {
   "cell_type": "markdown",
   "metadata": {},
   "source": [
    "\n",
    "**Part E:** It’s almost February, so let’s study snowfall in Boulder, in February. Compute the mean February snowfall using your cleaned data set. Next calculate the Tukey 5-number summary for the February snowfall data. Lastly, generate a boxplot for the February snowfall. "
   ]
  },
  {
   "cell_type": "code",
   "execution_count": 109,
   "metadata": {},
   "outputs": [
    {
     "name": "stdout",
     "output_type": "stream",
     "text": [
      "Mean:  11.402479338842973\n",
      "Min:  0.0\n",
      "Q1:  5.4\n",
      "Median:  9.8\n",
      "Q3:  16.5\n",
      "Max:  54.6\n"
     ]
    },
    {
     "data": {
      "text/plain": [
       "Text(0.5, 1.0, 'Snowfall Distribution By Decade')"
      ]
     },
     "execution_count": 109,
     "metadata": {},
     "output_type": "execute_result"
    },
    {
     "data": {
      "image/png": "[encoded data removed]",
      "text/plain": [
       "<Figure size 432x288 with 1 Axes>"
      ]
     },
     "metadata": {
      "needs_background": "light"
     },
     "output_type": "display_data"
    }
   ],
   "source": [
    "def find_median(l):\n",
    "    l.sort()\n",
    "    length = len(l)\n",
    "    if length % 2 == 0:\n",
    "        median1 = l[length//2]\n",
    "        median2 = l[length//2-1]\n",
    "        median = (median1 + median2)/2\n",
    "    else:\n",
    "        median = l[length//2]\n",
    "    return median\n",
    "\n",
    "feb = df[\"Feb\"].tolist()\n",
    "sum_ = 0\n",
    "feb = np.array(feb).astype(np.float)\n",
    "for item in feb:\n",
    "    item = float(item)\n",
    "    sum_ = sum_ + item\n",
    "mean = sum_ / len(feb)\n",
    "\n",
    "median = find_median(feb)\n",
    "\n",
    "q1_lim = int((len(feb)-1)/2)\n",
    "feb_q1 = feb[0:q1_lim]\n",
    "q1 = find_median(feb_q1)\n",
    "\n",
    "q3_lim = q1_lim + 1\n",
    "feb_q3 = feb[q3_lim:len(feb)]\n",
    "q3 = find_median(feb_q3)\n",
    "\n",
    "min_ = feb[0]\n",
    "max_ = feb[-1]\n",
    "\n",
    "\n",
    "\n",
    "df_year = df[[\"Year\", \"Feb\"]]\n",
    "\n",
    "YearList = df_year['Year'].tolist()\n",
    "TotalList = df_year[\"Feb\"].tolist()\n",
    "\n",
    "def divide_chunks_help(l, n): \n",
    "    for i in range(0, len(l), n):  \n",
    "        yield l[i:i + n] \n",
    "    \n",
    "def divide_chunks(l):\n",
    "    l = l[2:-9]\n",
    "    array = list(divide_chunks_help(l, 10))\n",
    "    array[-1].pop()\n",
    "    return array\n",
    "\n",
    "years = divide_chunks(YearList)\n",
    "totals = divide_chunks(TotalList)\n",
    "tot = []\n",
    "for item in totals:\n",
    "    sums=0\n",
    "    for i in range(0, len(item)):\n",
    "        item[i] = float(item[i])\n",
    "        sums = sums+item[i]\n",
    "    tot.append(sums)\n",
    "totals[10].insert(int(),4)\n",
    "data = pd.DataFrame(\n",
    "    {\n",
    "        \"1900s\" : totals[0],\n",
    "        \"1910s\" : totals[1],\n",
    "        \"1920s\" : totals[2],\n",
    "        \"1930s\" : totals[3],\n",
    "        \"1940s\" : totals[4],\n",
    "        \"1950s\" : totals[5],\n",
    "        \"1960s\" : totals[6],\n",
    "        \"1970s\" : totals[7],\n",
    "        \"1980s\" : totals[8],\n",
    "        \"1990s\" : totals[9],\n",
    "        \"2000s\" : totals[10]\n",
    "    }\n",
    ")\n",
    "\n",
    "print(\"Mean: \", mean)\n",
    "print(\"Min: \", min_)\n",
    "print(\"Q1: \", q1)\n",
    "print(\"Median: \", median)\n",
    "print(\"Q3: \", q3)\n",
    "print(\"Max: \", max_)\n",
    "\n",
    "ax = data.boxplot()\n",
    "\n",
    "ax.set_xlabel(\"Decade\")\n",
    "ax.set_ylabel(\"Yearly Snowfall\")\n",
    "ax.set_title(\"Snowfall Distribution By Decade\")"
   ]
  },
  {
   "cell_type": "markdown",
   "metadata": {},
   "source": []
  },
  {
   "cell_type": "markdown",
   "metadata": {},
   "source": [
    "**Part F:** Plot all of the February snowfall with a line plot, using your cleaned data set. How many inches of snow do you predict we will get this February in Boulder? Once February is over, we’ll see who was the closest!"
   ]
  },
  {
   "cell_type": "code",
   "execution_count": 125,
   "metadata": {},
   "outputs": [
    {
     "data": {
      "text/html": [
       "<div>\n",
       "<style scoped>\n",
       "    .dataframe tbody tr th:only-of-type {\n",
       "        vertical-align: middle;\n",
       "    }\n",
       "\n",
       "    .dataframe tbody tr th {\n",
       "        vertical-align: top;\n",
       "    }\n",
       "\n",
       "    .dataframe thead th {\n",
       "        text-align: right;\n",
       "    }\n",
       "</style>\n",
       "<table border=\"1\" class=\"dataframe\">\n",
       "  <thead>\n",
       "    <tr style=\"text-align: right;\">\n",
       "      <th></th>\n",
       "      <th>Year</th>\n",
       "      <th>Feb</th>\n",
       "    </tr>\n",
       "  </thead>\n",
       "  <tbody>\n",
       "    <tr>\n",
       "      <td>111</td>\n",
       "      <td>2010</td>\n",
       "      <td>22.9</td>\n",
       "    </tr>\n",
       "    <tr>\n",
       "      <td>112</td>\n",
       "      <td>2011</td>\n",
       "      <td>13.2</td>\n",
       "    </tr>\n",
       "    <tr>\n",
       "      <td>113</td>\n",
       "      <td>2012</td>\n",
       "      <td>32.1</td>\n",
       "    </tr>\n",
       "    <tr>\n",
       "      <td>114</td>\n",
       "      <td>2013</td>\n",
       "      <td>18.5</td>\n",
       "    </tr>\n",
       "    <tr>\n",
       "      <td>115</td>\n",
       "      <td>2014</td>\n",
       "      <td>11.7</td>\n",
       "    </tr>\n",
       "    <tr>\n",
       "      <td>116</td>\n",
       "      <td>2015</td>\n",
       "      <td>54.6</td>\n",
       "    </tr>\n",
       "    <tr>\n",
       "      <td>117</td>\n",
       "      <td>2016</td>\n",
       "      <td>21.8</td>\n",
       "    </tr>\n",
       "    <tr>\n",
       "      <td>118</td>\n",
       "      <td>2017</td>\n",
       "      <td>9.9</td>\n",
       "    </tr>\n",
       "    <tr>\n",
       "      <td>119</td>\n",
       "      <td>2018</td>\n",
       "      <td>18.5</td>\n",
       "    </tr>\n",
       "    <tr>\n",
       "      <td>120</td>\n",
       "      <td>2019</td>\n",
       "      <td>14.6</td>\n",
       "    </tr>\n",
       "  </tbody>\n",
       "</table>\n",
       "</div>"
      ],
      "text/plain": [
       "     Year   Feb\n",
       "111  2010  22.9\n",
       "112  2011  13.2\n",
       "113  2012  32.1\n",
       "114  2013  18.5\n",
       "115  2014  11.7\n",
       "116  2015  54.6\n",
       "117  2016  21.8\n",
       "118  2017   9.9\n",
       "119  2018  18.5\n",
       "120  2019  14.6"
      ]
     },
     "execution_count": 125,
     "metadata": {},
     "output_type": "execute_result"
    },
    {
     "data": {
      "image/png": "[encoded data removed]",
      "text/plain": [
       "<Figure size 432x288 with 1 Axes>"
      ]
     },
     "metadata": {
      "needs_background": "light"
     },
     "output_type": "display_data"
    }
   ],
   "source": [
    "df_year = df[[\"Year\", \"Feb\"]]\n",
    "feb_lst = df[\"Feb\"].astype(float)\n",
    "year_lst= df[\"Year\"].astype(int)\n",
    "\n",
    "df_feb = pd.DataFrame(list(zip(year_lst, feb_lst)), \n",
    "               columns =['Year', 'Feb'])\n",
    "\n",
    "ax = df_feb.plot(kind = 'line', x= 'Year', y = \"Feb\")\n",
    "ax.set_xlabel(\"Year\")\n",
    "ax.set_ylabel(\"Total Snowfall (in)\")\n",
    "ax.set_title(\"Yearly February Snowfall\")\n"
   ]
  },
  {
   "cell_type": "markdown",
   "metadata": {},
   "source": [
    "2020 Feb Snow Fall Guess = 25 in"
   ]
  },
  {
   "cell_type": "markdown",
   "metadata": {},
   "source": [
    "[Back to top](#top)\n",
    "<a/ id='p5'></a>\n",
    "\n",
    "## (15 pts) Problem 5\n",
    "***\n",
    "Consider the following 3 data sets:\n",
    "\n",
    "`A=[8, 6, 7, 5, 3, 0, 9]`\n",
    "\n",
    "`B=[2, 29, 84, 2, 10, 69, 3, 31, 18]`\n",
    "\n",
    "`C` is the random data set generated by using `np.random.randint(0,1000, size=100)`\n",
    "\n",
    "For each data set, perform the following computations:\n",
    "\n",
    "**Part A:** Compute and print the mean and standard deviation of the data set. You may use built-in python functions."
   ]
  },
  {
   "cell_type": "code",
   "execution_count": 283,
   "metadata": {},
   "outputs": [
    {
     "name": "stdout",
     "output_type": "stream",
     "text": [
      "mean for A= 5.428571428571429\n",
      "STD for A= 2.8713930346059686\n",
      "mean for B= 27.555555555555557\n",
      "STD for B= 28.335729746151124\n",
      "mean for C= 463.85\n",
      "STD for C= 316.91791918413196\n"
     ]
    }
   ],
   "source": [
    "A=[8, 6, 7, 5, 3, 0, 9]\n",
    "B=[2, 29, 84, 2, 10, 69, 3, 31, 18]\n",
    "C=np.random.randint(0,1000, size=100)\n",
    "array = [A,B,C]\n",
    "array_names = ['A','B','C']\n",
    "index = 0\n",
    "for item in array:\n",
    "    print(\"mean for \" + array_names[index] + \"= \" + str(np.mean(item)))\n",
    "    print(\"STD for \" + array_names[index] + \"= \" + str(np.std(item)))\n",
    "    index = index + 1\n",
    "\n"
   ]
  },
  {
   "cell_type": "markdown",
   "metadata": {},
   "source": [
    "**Part B:** Compute and print  the mean and standard deviation of the new data set formed by subtracting the original mean from each observation."
   ]
  },
  {
   "cell_type": "code",
   "execution_count": 284,
   "metadata": {},
   "outputs": [
    {
     "name": "stdout",
     "output_type": "stream",
     "text": [
      "mean for A= 1.8452619613409031\n",
      "STD for A= 2.6554436366095437\n",
      "mean for B= 9.546330577380601\n",
      "STD for B= 28.840393793721493\n",
      "mean for C= 169.65\n",
      "STD for C= 324.91747798479537\n"
     ]
    }
   ],
   "source": [
    "array_2 = array\n",
    "for i in array_2:\n",
    "    for j in range(0,len(i)):\n",
    "        i[j] = i[j] - np.mean(i)\n",
    "index = 0\n",
    "for item in array_2:\n",
    "    print(\"mean for \" + array_names[index] + \"= \" + str(np.mean(item)))\n",
    "    print(\"STD for \" + array_names[index] + \"= \" + str(np.std(item)))\n",
    "    index = index + 1"
   ]
  },
  {
   "cell_type": "markdown",
   "metadata": {},
   "source": [
    "**Part C:** Compute and print  the mean and standard deviation of the new data set formed by subtracting the original mean from each observation and then dividing by the original standard deviation."
   ]
  },
  {
   "cell_type": "code",
   "execution_count": 285,
   "metadata": {},
   "outputs": [
    {
     "name": "stdout",
     "output_type": "stream",
     "text": [
      "mean for A= 0.281013537318301\n",
      "STD for A= 1.0156937456890214\n",
      "mean for B= 0.47410854062472396\n",
      "STD for B= 1.706226069098864\n",
      "mean for C= 0.32\n",
      "STD for C= 2.101808744867144\n"
     ]
    }
   ],
   "source": [
    "array_3 = array\n",
    "for i in array_3:\n",
    "    for j in range(0,len(i)):\n",
    "        i[j] = (i[j] - np.mean(i)) / np.std(i)\n",
    "index = 0\n",
    "for item in array_3:\n",
    "    print(\"mean for \" + array_names[index] + \"= \" + str(np.mean(item)))\n",
    "    print(\"STD for \" + array_names[index] + \"= \" + str(np.std(item)))\n",
    "    index = index + 1"
   ]
  },
  {
   "cell_type": "markdown",
   "metadata": {},
   "source": [
    "**Part D:** Why might this result matter?"
   ]
  },
  {
   "cell_type": "markdown",
   "metadata": {},
   "source": [
    "This creates a unique scoring system called standardization to be easily able to compare points in the data set."
   ]
  },
  {
   "cell_type": "code",
   "execution_count": null,
   "metadata": {},
   "outputs": [],
   "source": []
  }
 ],
 "metadata": {
  "kernelspec": {
   "display_name": "Python 3",
   "language": "python",
   "name": "python3"
  },
  "language_info": {
   "codemirror_mode": {
    "name": "ipython",
    "version": 3
   },
   "file_extension": ".py",
   "mimetype": "text/x-python",
   "name": "python",
   "nbconvert_exporter": "python",
   "pygments_lexer": "ipython3",
   "version": "3.7.4"
  }
 },
 "nbformat": 4,
 "nbformat_minor": 2
}
